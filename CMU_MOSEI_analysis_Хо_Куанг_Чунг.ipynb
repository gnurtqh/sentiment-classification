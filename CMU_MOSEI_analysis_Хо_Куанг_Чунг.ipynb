{
  "nbformat": 4,
  "nbformat_minor": 0,
  "metadata": {
    "colab": {
      "provenance": [],
      "toc_visible": true,
      "mount_file_id": "1vVCLAi3ml6rXTkRxcPqy_CyVa7ZexATw",
      "authorship_tag": "ABX9TyPQv99oT2FE3BDSfvNBN09V",
      "include_colab_link": true
    },
    "kernelspec": {
      "name": "python3",
      "display_name": "Python 3"
    },
    "language_info": {
      "name": "python"
    },
    "accelerator": "GPU",
    "gpuClass": "standard"
  },
  "cells": [
    {
      "cell_type": "markdown",
      "metadata": {
        "id": "view-in-github",
        "colab_type": "text"
      },
      "source": [
        "<a href=\"https://colab.research.google.com/github/gnurtqh/sentiment-classification/blob/main/CMU_MOSEI_analysis_%D0%A5%D0%BE_%D0%9A%D1%83%D0%B0%D0%BD%D0%B3_%D0%A7%D1%83%D0%BD%D0%B3.ipynb\" target=\"_parent\"><img src=\"https://colab.research.google.com/assets/colab-badge.svg\" alt=\"Open In Colab\"/></a>"
      ]
    },
    {
      "cell_type": "markdown",
      "source": [
        "# 🧩 Эксполаторный анализ корпуса"
      ],
      "metadata": {
        "id": "4FsL-fhm5L_j"
      }
    },
    {
      "cell_type": "code",
      "source": [
        "from google.colab import drive\n",
        "drive.mount('/content/drive')"
      ],
      "metadata": {
        "id": "xSDWqeo_vYFG"
      },
      "execution_count": null,
      "outputs": []
    },
    {
      "cell_type": "markdown",
      "source": [
        "## Импорт библиотек"
      ],
      "metadata": {
        "id": "e9JRFuNv5T0E"
      }
    },
    {
      "cell_type": "code",
      "execution_count": 1,
      "metadata": {
        "id": "ZtgHb1h-r20p"
      },
      "outputs": [],
      "source": [
        "import pandas as pd\n",
        "import seaborn as sns\n",
        "import nltk\n",
        "import matplotlib.pyplot as plt\n",
        "from nltk.probability import FreqDist\n",
        "from wordcloud import WordCloud, ImageColorGenerator\n",
        "from nltk.corpus import stopwords\n",
        "from nltk.stem import WordNetLemmatizer\n",
        "import os"
      ]
    },
    {
      "cell_type": "markdown",
      "source": [
        "**Скачать необходимые пакеты**"
      ],
      "metadata": {
        "id": "0_NjHl5L5Lkq"
      }
    },
    {
      "cell_type": "code",
      "source": [
        "nltk.download('stopwords')\n",
        "nltk.download('wordnet')"
      ],
      "metadata": {
        "colab": {
          "base_uri": "https://localhost:8080/"
        },
        "id": "_g782Nr3rO6A",
        "outputId": "e10c0c19-e2a2-4467-ecc0-3b5b4a458da7"
      },
      "execution_count": 2,
      "outputs": [
        {
          "output_type": "stream",
          "name": "stderr",
          "text": [
            "[nltk_data] Downloading package stopwords to /root/nltk_data...\n",
            "[nltk_data]   Unzipping corpora/stopwords.zip.\n",
            "[nltk_data] Downloading package wordnet to /root/nltk_data...\n"
          ]
        },
        {
          "output_type": "execute_result",
          "data": {
            "text/plain": [
              "True"
            ]
          },
          "metadata": {},
          "execution_count": 2
        }
      ]
    },
    {
      "cell_type": "markdown",
      "source": [
        "## Загрузка корпуса данных"
      ],
      "metadata": {
        "id": "rgA88mi45zO-"
      }
    },
    {
      "cell_type": "markdown",
      "source": [
        "**Путь к каталогу**"
      ],
      "metadata": {
        "id": "bEuYdTic5563"
      }
    },
    {
      "cell_type": "code",
      "source": [
        "home_path = \"/content/drive/MyDrive/library/ITMO/2-семестр/Курс Работа - Автоматическийанализ эмоций\""
      ],
      "metadata": {
        "id": "D6t8uxfot4Yo"
      },
      "execution_count": 3,
      "outputs": []
    },
    {
      "cell_type": "code",
      "source": [
        "base_folder = os.path.join(home_path, 'CMU-MOSEI')"
      ],
      "metadata": {
        "id": "SBuyD45X1h9U"
      },
      "execution_count": 4,
      "outputs": []
    },
    {
      "cell_type": "markdown",
      "source": [
        "**Загрузка наборов меток данных**"
      ],
      "metadata": {
        "id": "KJhbl3wy1UCb"
      }
    },
    {
      "cell_type": "code",
      "source": [
        "train_labels = pd.read_csv(os.path.join(base_folder, \"Labels/Data_Train_modified.csv\"))\n",
        "val_labels = pd.read_csv(os.path.join(base_folder, \"Labels/Data_Val_modified.csv\"))\n",
        "test_labels = pd.read_csv(os.path.join(base_folder, \"Labels/Data_Test_modified.csv\"))"
      ],
      "metadata": {
        "id": "WEG0OiOS00f1"
      },
      "execution_count": 5,
      "outputs": []
    },
    {
      "cell_type": "markdown",
      "source": [
        "## Анализ корпуса данных"
      ],
      "metadata": {
        "id": "sp6RsWyp6Db9"
      }
    },
    {
      "cell_type": "markdown",
      "source": [
        "**Просмотр содержимого корпуса**"
      ],
      "metadata": {
        "id": "Bwgfed3H7BEG"
      }
    },
    {
      "cell_type": "code",
      "source": [
        "train_labels.head()"
      ],
      "metadata": {
        "colab": {
          "base_uri": "https://localhost:8080/",
          "height": 206
        },
        "id": "P1bbi5hL1O7h",
        "outputId": "aedc014a-798f-4f6a-9f38-c68681284b58"
      },
      "execution_count": 6,
      "outputs": [
        {
          "output_type": "execute_result",
          "data": {
            "text/plain": [
              "         video  start_time  end_time  sentiment     happy       sad  anger  \\\n",
              "0  -3g5yACwYnA     82.7645  100.5550   1.000000  0.666667  0.666667    0.0   \n",
              "1  -3g5yACwYnA    119.9190  125.2990   0.666667  0.000000  0.000000    0.0   \n",
              "2  -3g5yACwYnA      4.8400   13.6315   0.000000  0.666667  0.666667    0.0   \n",
              "3  -3g5yACwYnA     13.6315   27.0310   0.000000  0.333333  0.333333    0.0   \n",
              "4  -3g5yACwYnA     27.0310   41.3000   1.000000  0.666667  0.000000    0.0   \n",
              "\n",
              "   surprise  disgust      fear  \\\n",
              "0       0.0      0.0  0.666667   \n",
              "1       0.0      0.0  0.000000   \n",
              "2       0.0      0.0  0.333333   \n",
              "3       0.0      0.0  0.000000   \n",
              "4       0.0      0.0  0.000000   \n",
              "\n",
              "                                                text  \\\n",
              "0  Key is part of the people that we use to solve...   \n",
              "1  They've been able to find solutions or at leas...   \n",
              "2  Key Polymer brings a technical aspect to our o...   \n",
              "3  We're a huge user of adhesives for our operati...   \n",
              "4  Key brings those types of aspects to a busines...   \n",
              "\n",
              "                                                 ASR  \n",
              "0   key part of the people that we use the to sel...  \n",
              "1   is that we do they have been able to find sol...  \n",
              "2   creations and key brings a keep our brains ar...  \n",
              "3   we are a huge a user of adhesives for our ope...  \n",
              "4   he brings those types of a aspects to our bus...  "
            ],
            "text/html": [
              "\n",
              "  <div id=\"df-bee514f8-f74a-4ef2-a892-4da270c77ab0\">\n",
              "    <div class=\"colab-df-container\">\n",
              "      <div>\n",
              "<style scoped>\n",
              "    .dataframe tbody tr th:only-of-type {\n",
              "        vertical-align: middle;\n",
              "    }\n",
              "\n",
              "    .dataframe tbody tr th {\n",
              "        vertical-align: top;\n",
              "    }\n",
              "\n",
              "    .dataframe thead th {\n",
              "        text-align: right;\n",
              "    }\n",
              "</style>\n",
              "<table border=\"1\" class=\"dataframe\">\n",
              "  <thead>\n",
              "    <tr style=\"text-align: right;\">\n",
              "      <th></th>\n",
              "      <th>video</th>\n",
              "      <th>start_time</th>\n",
              "      <th>end_time</th>\n",
              "      <th>sentiment</th>\n",
              "      <th>happy</th>\n",
              "      <th>sad</th>\n",
              "      <th>anger</th>\n",
              "      <th>surprise</th>\n",
              "      <th>disgust</th>\n",
              "      <th>fear</th>\n",
              "      <th>text</th>\n",
              "      <th>ASR</th>\n",
              "    </tr>\n",
              "  </thead>\n",
              "  <tbody>\n",
              "    <tr>\n",
              "      <th>0</th>\n",
              "      <td>-3g5yACwYnA</td>\n",
              "      <td>82.7645</td>\n",
              "      <td>100.5550</td>\n",
              "      <td>1.000000</td>\n",
              "      <td>0.666667</td>\n",
              "      <td>0.666667</td>\n",
              "      <td>0.0</td>\n",
              "      <td>0.0</td>\n",
              "      <td>0.0</td>\n",
              "      <td>0.666667</td>\n",
              "      <td>Key is part of the people that we use to solve...</td>\n",
              "      <td>key part of the people that we use the to sel...</td>\n",
              "    </tr>\n",
              "    <tr>\n",
              "      <th>1</th>\n",
              "      <td>-3g5yACwYnA</td>\n",
              "      <td>119.9190</td>\n",
              "      <td>125.2990</td>\n",
              "      <td>0.666667</td>\n",
              "      <td>0.000000</td>\n",
              "      <td>0.000000</td>\n",
              "      <td>0.0</td>\n",
              "      <td>0.0</td>\n",
              "      <td>0.0</td>\n",
              "      <td>0.000000</td>\n",
              "      <td>They've been able to find solutions or at leas...</td>\n",
              "      <td>is that we do they have been able to find sol...</td>\n",
              "    </tr>\n",
              "    <tr>\n",
              "      <th>2</th>\n",
              "      <td>-3g5yACwYnA</td>\n",
              "      <td>4.8400</td>\n",
              "      <td>13.6315</td>\n",
              "      <td>0.000000</td>\n",
              "      <td>0.666667</td>\n",
              "      <td>0.666667</td>\n",
              "      <td>0.0</td>\n",
              "      <td>0.0</td>\n",
              "      <td>0.0</td>\n",
              "      <td>0.333333</td>\n",
              "      <td>Key Polymer brings a technical aspect to our o...</td>\n",
              "      <td>creations and key brings a keep our brains ar...</td>\n",
              "    </tr>\n",
              "    <tr>\n",
              "      <th>3</th>\n",
              "      <td>-3g5yACwYnA</td>\n",
              "      <td>13.6315</td>\n",
              "      <td>27.0310</td>\n",
              "      <td>0.000000</td>\n",
              "      <td>0.333333</td>\n",
              "      <td>0.333333</td>\n",
              "      <td>0.0</td>\n",
              "      <td>0.0</td>\n",
              "      <td>0.0</td>\n",
              "      <td>0.000000</td>\n",
              "      <td>We're a huge user of adhesives for our operati...</td>\n",
              "      <td>we are a huge a user of adhesives for our ope...</td>\n",
              "    </tr>\n",
              "    <tr>\n",
              "      <th>4</th>\n",
              "      <td>-3g5yACwYnA</td>\n",
              "      <td>27.0310</td>\n",
              "      <td>41.3000</td>\n",
              "      <td>1.000000</td>\n",
              "      <td>0.666667</td>\n",
              "      <td>0.000000</td>\n",
              "      <td>0.0</td>\n",
              "      <td>0.0</td>\n",
              "      <td>0.0</td>\n",
              "      <td>0.000000</td>\n",
              "      <td>Key brings those types of aspects to a busines...</td>\n",
              "      <td>he brings those types of a aspects to our bus...</td>\n",
              "    </tr>\n",
              "  </tbody>\n",
              "</table>\n",
              "</div>\n",
              "      <button class=\"colab-df-convert\" onclick=\"convertToInteractive('df-bee514f8-f74a-4ef2-a892-4da270c77ab0')\"\n",
              "              title=\"Convert this dataframe to an interactive table.\"\n",
              "              style=\"display:none;\">\n",
              "        \n",
              "  <svg xmlns=\"http://www.w3.org/2000/svg\" height=\"24px\"viewBox=\"0 0 24 24\"\n",
              "       width=\"24px\">\n",
              "    <path d=\"M0 0h24v24H0V0z\" fill=\"none\"/>\n",
              "    <path d=\"M18.56 5.44l.94 2.06.94-2.06 2.06-.94-2.06-.94-.94-2.06-.94 2.06-2.06.94zm-11 1L8.5 8.5l.94-2.06 2.06-.94-2.06-.94L8.5 2.5l-.94 2.06-2.06.94zm10 10l.94 2.06.94-2.06 2.06-.94-2.06-.94-.94-2.06-.94 2.06-2.06.94z\"/><path d=\"M17.41 7.96l-1.37-1.37c-.4-.4-.92-.59-1.43-.59-.52 0-1.04.2-1.43.59L10.3 9.45l-7.72 7.72c-.78.78-.78 2.05 0 2.83L4 21.41c.39.39.9.59 1.41.59.51 0 1.02-.2 1.41-.59l7.78-7.78 2.81-2.81c.8-.78.8-2.07 0-2.86zM5.41 20L4 18.59l7.72-7.72 1.47 1.35L5.41 20z\"/>\n",
              "  </svg>\n",
              "      </button>\n",
              "      \n",
              "  <style>\n",
              "    .colab-df-container {\n",
              "      display:flex;\n",
              "      flex-wrap:wrap;\n",
              "      gap: 12px;\n",
              "    }\n",
              "\n",
              "    .colab-df-convert {\n",
              "      background-color: #E8F0FE;\n",
              "      border: none;\n",
              "      border-radius: 50%;\n",
              "      cursor: pointer;\n",
              "      display: none;\n",
              "      fill: #1967D2;\n",
              "      height: 32px;\n",
              "      padding: 0 0 0 0;\n",
              "      width: 32px;\n",
              "    }\n",
              "\n",
              "    .colab-df-convert:hover {\n",
              "      background-color: #E2EBFA;\n",
              "      box-shadow: 0px 1px 2px rgba(60, 64, 67, 0.3), 0px 1px 3px 1px rgba(60, 64, 67, 0.15);\n",
              "      fill: #174EA6;\n",
              "    }\n",
              "\n",
              "    [theme=dark] .colab-df-convert {\n",
              "      background-color: #3B4455;\n",
              "      fill: #D2E3FC;\n",
              "    }\n",
              "\n",
              "    [theme=dark] .colab-df-convert:hover {\n",
              "      background-color: #434B5C;\n",
              "      box-shadow: 0px 1px 3px 1px rgba(0, 0, 0, 0.15);\n",
              "      filter: drop-shadow(0px 1px 2px rgba(0, 0, 0, 0.3));\n",
              "      fill: #FFFFFF;\n",
              "    }\n",
              "  </style>\n",
              "\n",
              "      <script>\n",
              "        const buttonEl =\n",
              "          document.querySelector('#df-bee514f8-f74a-4ef2-a892-4da270c77ab0 button.colab-df-convert');\n",
              "        buttonEl.style.display =\n",
              "          google.colab.kernel.accessAllowed ? 'block' : 'none';\n",
              "\n",
              "        async function convertToInteractive(key) {\n",
              "          const element = document.querySelector('#df-bee514f8-f74a-4ef2-a892-4da270c77ab0');\n",
              "          const dataTable =\n",
              "            await google.colab.kernel.invokeFunction('convertToInteractive',\n",
              "                                                     [key], {});\n",
              "          if (!dataTable) return;\n",
              "\n",
              "          const docLinkHtml = 'Like what you see? Visit the ' +\n",
              "            '<a target=\"_blank\" href=https://colab.research.google.com/notebooks/data_table.ipynb>data table notebook</a>'\n",
              "            + ' to learn more about interactive tables.';\n",
              "          element.innerHTML = '';\n",
              "          dataTable['output_type'] = 'display_data';\n",
              "          await google.colab.output.renderOutput(dataTable, element);\n",
              "          const docLink = document.createElement('div');\n",
              "          docLink.innerHTML = docLinkHtml;\n",
              "          element.appendChild(docLink);\n",
              "        }\n",
              "      </script>\n",
              "    </div>\n",
              "  </div>\n",
              "  "
            ]
          },
          "metadata": {},
          "execution_count": 6
        }
      ]
    },
    {
      "cell_type": "code",
      "source": [
        "val_labels.head()"
      ],
      "metadata": {
        "colab": {
          "base_uri": "https://localhost:8080/",
          "height": 206
        },
        "id": "scZZSckJ7S1O",
        "outputId": "ccb48b33-b651-4313-bc0b-db1ab9b56411"
      },
      "execution_count": 7,
      "outputs": [
        {
          "output_type": "execute_result",
          "data": {
            "text/plain": [
              "         video  start_time  end_time  sentiment     happy       sad  anger  \\\n",
              "0  --qXJuDtHPw      23.199    30.325   1.000000  0.666667  0.000000    0.0   \n",
              "1  -571d8cVauQ       0.000     4.992   0.000000  0.000000  0.000000    0.0   \n",
              "2  -571d8cVauQ      21.842    28.309  -0.666667  0.333333  0.333333    0.0   \n",
              "3  -571d8cVauQ      69.893    85.000   0.333333  0.333333  0.000000    0.0   \n",
              "4  -I_e4mIh0yE       3.144    10.570  -0.666667  0.000000  0.333333    0.0   \n",
              "\n",
              "   surprise  disgust  fear                                               text  \\\n",
              "0       0.0      0.0   0.0  I see that a writer is somebody who has an inc...   \n",
              "1       0.0      0.0   0.0  This is Rhett Reiger, White Caspian Studios on...   \n",
              "2       0.0      0.0   0.0  However, again on a low budget film there's no...   \n",
              "3       0.0      0.0   0.0  So very important to go out to the locations, ...   \n",
              "4       0.0      0.0   0.0  In the United States we don't punish failure t...   \n",
              "\n",
              "                                                 ASR  \n",
              "0   peter and i see that a writer is somebody who...  \n",
              "1   this is red ryder white caspian studios on be...  \n",
              "2   however again on a low budget film there's no...  \n",
              "3   was so very important to go out to the locati...  \n",
              "4   the ship in the united states we don't punish...  "
            ],
            "text/html": [
              "\n",
              "  <div id=\"df-a014a888-b553-4883-a107-3be9a3c668ac\">\n",
              "    <div class=\"colab-df-container\">\n",
              "      <div>\n",
              "<style scoped>\n",
              "    .dataframe tbody tr th:only-of-type {\n",
              "        vertical-align: middle;\n",
              "    }\n",
              "\n",
              "    .dataframe tbody tr th {\n",
              "        vertical-align: top;\n",
              "    }\n",
              "\n",
              "    .dataframe thead th {\n",
              "        text-align: right;\n",
              "    }\n",
              "</style>\n",
              "<table border=\"1\" class=\"dataframe\">\n",
              "  <thead>\n",
              "    <tr style=\"text-align: right;\">\n",
              "      <th></th>\n",
              "      <th>video</th>\n",
              "      <th>start_time</th>\n",
              "      <th>end_time</th>\n",
              "      <th>sentiment</th>\n",
              "      <th>happy</th>\n",
              "      <th>sad</th>\n",
              "      <th>anger</th>\n",
              "      <th>surprise</th>\n",
              "      <th>disgust</th>\n",
              "      <th>fear</th>\n",
              "      <th>text</th>\n",
              "      <th>ASR</th>\n",
              "    </tr>\n",
              "  </thead>\n",
              "  <tbody>\n",
              "    <tr>\n",
              "      <th>0</th>\n",
              "      <td>--qXJuDtHPw</td>\n",
              "      <td>23.199</td>\n",
              "      <td>30.325</td>\n",
              "      <td>1.000000</td>\n",
              "      <td>0.666667</td>\n",
              "      <td>0.000000</td>\n",
              "      <td>0.0</td>\n",
              "      <td>0.0</td>\n",
              "      <td>0.0</td>\n",
              "      <td>0.0</td>\n",
              "      <td>I see that a writer is somebody who has an inc...</td>\n",
              "      <td>peter and i see that a writer is somebody who...</td>\n",
              "    </tr>\n",
              "    <tr>\n",
              "      <th>1</th>\n",
              "      <td>-571d8cVauQ</td>\n",
              "      <td>0.000</td>\n",
              "      <td>4.992</td>\n",
              "      <td>0.000000</td>\n",
              "      <td>0.000000</td>\n",
              "      <td>0.000000</td>\n",
              "      <td>0.0</td>\n",
              "      <td>0.0</td>\n",
              "      <td>0.0</td>\n",
              "      <td>0.0</td>\n",
              "      <td>This is Rhett Reiger, White Caspian Studios on...</td>\n",
              "      <td>this is red ryder white caspian studios on be...</td>\n",
              "    </tr>\n",
              "    <tr>\n",
              "      <th>2</th>\n",
              "      <td>-571d8cVauQ</td>\n",
              "      <td>21.842</td>\n",
              "      <td>28.309</td>\n",
              "      <td>-0.666667</td>\n",
              "      <td>0.333333</td>\n",
              "      <td>0.333333</td>\n",
              "      <td>0.0</td>\n",
              "      <td>0.0</td>\n",
              "      <td>0.0</td>\n",
              "      <td>0.0</td>\n",
              "      <td>However, again on a low budget film there's no...</td>\n",
              "      <td>however again on a low budget film there's no...</td>\n",
              "    </tr>\n",
              "    <tr>\n",
              "      <th>3</th>\n",
              "      <td>-571d8cVauQ</td>\n",
              "      <td>69.893</td>\n",
              "      <td>85.000</td>\n",
              "      <td>0.333333</td>\n",
              "      <td>0.333333</td>\n",
              "      <td>0.000000</td>\n",
              "      <td>0.0</td>\n",
              "      <td>0.0</td>\n",
              "      <td>0.0</td>\n",
              "      <td>0.0</td>\n",
              "      <td>So very important to go out to the locations, ...</td>\n",
              "      <td>was so very important to go out to the locati...</td>\n",
              "    </tr>\n",
              "    <tr>\n",
              "      <th>4</th>\n",
              "      <td>-I_e4mIh0yE</td>\n",
              "      <td>3.144</td>\n",
              "      <td>10.570</td>\n",
              "      <td>-0.666667</td>\n",
              "      <td>0.000000</td>\n",
              "      <td>0.333333</td>\n",
              "      <td>0.0</td>\n",
              "      <td>0.0</td>\n",
              "      <td>0.0</td>\n",
              "      <td>0.0</td>\n",
              "      <td>In the United States we don't punish failure t...</td>\n",
              "      <td>the ship in the united states we don't punish...</td>\n",
              "    </tr>\n",
              "  </tbody>\n",
              "</table>\n",
              "</div>\n",
              "      <button class=\"colab-df-convert\" onclick=\"convertToInteractive('df-a014a888-b553-4883-a107-3be9a3c668ac')\"\n",
              "              title=\"Convert this dataframe to an interactive table.\"\n",
              "              style=\"display:none;\">\n",
              "        \n",
              "  <svg xmlns=\"http://www.w3.org/2000/svg\" height=\"24px\"viewBox=\"0 0 24 24\"\n",
              "       width=\"24px\">\n",
              "    <path d=\"M0 0h24v24H0V0z\" fill=\"none\"/>\n",
              "    <path d=\"M18.56 5.44l.94 2.06.94-2.06 2.06-.94-2.06-.94-.94-2.06-.94 2.06-2.06.94zm-11 1L8.5 8.5l.94-2.06 2.06-.94-2.06-.94L8.5 2.5l-.94 2.06-2.06.94zm10 10l.94 2.06.94-2.06 2.06-.94-2.06-.94-.94-2.06-.94 2.06-2.06.94z\"/><path d=\"M17.41 7.96l-1.37-1.37c-.4-.4-.92-.59-1.43-.59-.52 0-1.04.2-1.43.59L10.3 9.45l-7.72 7.72c-.78.78-.78 2.05 0 2.83L4 21.41c.39.39.9.59 1.41.59.51 0 1.02-.2 1.41-.59l7.78-7.78 2.81-2.81c.8-.78.8-2.07 0-2.86zM5.41 20L4 18.59l7.72-7.72 1.47 1.35L5.41 20z\"/>\n",
              "  </svg>\n",
              "      </button>\n",
              "      \n",
              "  <style>\n",
              "    .colab-df-container {\n",
              "      display:flex;\n",
              "      flex-wrap:wrap;\n",
              "      gap: 12px;\n",
              "    }\n",
              "\n",
              "    .colab-df-convert {\n",
              "      background-color: #E8F0FE;\n",
              "      border: none;\n",
              "      border-radius: 50%;\n",
              "      cursor: pointer;\n",
              "      display: none;\n",
              "      fill: #1967D2;\n",
              "      height: 32px;\n",
              "      padding: 0 0 0 0;\n",
              "      width: 32px;\n",
              "    }\n",
              "\n",
              "    .colab-df-convert:hover {\n",
              "      background-color: #E2EBFA;\n",
              "      box-shadow: 0px 1px 2px rgba(60, 64, 67, 0.3), 0px 1px 3px 1px rgba(60, 64, 67, 0.15);\n",
              "      fill: #174EA6;\n",
              "    }\n",
              "\n",
              "    [theme=dark] .colab-df-convert {\n",
              "      background-color: #3B4455;\n",
              "      fill: #D2E3FC;\n",
              "    }\n",
              "\n",
              "    [theme=dark] .colab-df-convert:hover {\n",
              "      background-color: #434B5C;\n",
              "      box-shadow: 0px 1px 3px 1px rgba(0, 0, 0, 0.15);\n",
              "      filter: drop-shadow(0px 1px 2px rgba(0, 0, 0, 0.3));\n",
              "      fill: #FFFFFF;\n",
              "    }\n",
              "  </style>\n",
              "\n",
              "      <script>\n",
              "        const buttonEl =\n",
              "          document.querySelector('#df-a014a888-b553-4883-a107-3be9a3c668ac button.colab-df-convert');\n",
              "        buttonEl.style.display =\n",
              "          google.colab.kernel.accessAllowed ? 'block' : 'none';\n",
              "\n",
              "        async function convertToInteractive(key) {\n",
              "          const element = document.querySelector('#df-a014a888-b553-4883-a107-3be9a3c668ac');\n",
              "          const dataTable =\n",
              "            await google.colab.kernel.invokeFunction('convertToInteractive',\n",
              "                                                     [key], {});\n",
              "          if (!dataTable) return;\n",
              "\n",
              "          const docLinkHtml = 'Like what you see? Visit the ' +\n",
              "            '<a target=\"_blank\" href=https://colab.research.google.com/notebooks/data_table.ipynb>data table notebook</a>'\n",
              "            + ' to learn more about interactive tables.';\n",
              "          element.innerHTML = '';\n",
              "          dataTable['output_type'] = 'display_data';\n",
              "          await google.colab.output.renderOutput(dataTable, element);\n",
              "          const docLink = document.createElement('div');\n",
              "          docLink.innerHTML = docLinkHtml;\n",
              "          element.appendChild(docLink);\n",
              "        }\n",
              "      </script>\n",
              "    </div>\n",
              "  </div>\n",
              "  "
            ]
          },
          "metadata": {},
          "execution_count": 7
        }
      ]
    },
    {
      "cell_type": "markdown",
      "source": [],
      "metadata": {
        "id": "OO3u1CljsQUx"
      }
    },
    {
      "cell_type": "code",
      "source": [
        "test_labels.head()"
      ],
      "metadata": {
        "colab": {
          "base_uri": "https://localhost:8080/",
          "height": 206
        },
        "id": "zeLtET_L7YTF",
        "outputId": "fae333e7-fb94-4d01-a8ce-d693621b5c5b"
      },
      "execution_count": 8,
      "outputs": [
        {
          "output_type": "execute_result",
          "data": {
            "text/plain": [
              "         video  start_time  end_time  sentiment     happy       sad     anger  \\\n",
              "0  -6rXp3zJ3kc      14.468   22.8820   0.000000  0.000000  0.333333  0.333333   \n",
              "1  -6rXp3zJ3kc      45.428   58.1300  -1.000000  0.000000  0.333333  0.000000   \n",
              "2  -6rXp3zJ3kc      58.130   71.9600   0.333333  0.000000  0.333333  0.000000   \n",
              "3  -9y-fZ3swSY       0.000    6.3680   1.000000  1.333333  0.000000  0.000000   \n",
              "4  -9y-fZ3swSY       6.368   11.7855   1.333333  1.000000  0.000000  0.000000   \n",
              "\n",
              "   surprise  disgust  fear                                               text  \\\n",
              "0       0.0      0.0   0.0  And it's a retirement future that can ultimate...   \n",
              "1       0.0      0.0   0.0  Many people are not until they get to be a old...   \n",
              "2       0.0      0.0   0.0  So the answer to the question, can I contribut...   \n",
              "3       0.0      0.0   0.0  is, you can say, hey I really like baby skin, ...   \n",
              "4       0.0      0.0   0.0  It’s so nice, by giving a good example and not...   \n",
              "\n",
              "                                                 ASR  \n",
              "0   and it's a retirement future that ultimately ...  \n",
              "1   aware of many people are not until i get to b...  \n",
              "2   so the answer to the question can i contribut...  \n",
              "3   especially if i'd say hey can what i really l...  \n",
              "4   it's so nice by giving a good example and not...  "
            ],
            "text/html": [
              "\n",
              "  <div id=\"df-839a8990-1aaa-482a-83cf-ee7cc255aeca\">\n",
              "    <div class=\"colab-df-container\">\n",
              "      <div>\n",
              "<style scoped>\n",
              "    .dataframe tbody tr th:only-of-type {\n",
              "        vertical-align: middle;\n",
              "    }\n",
              "\n",
              "    .dataframe tbody tr th {\n",
              "        vertical-align: top;\n",
              "    }\n",
              "\n",
              "    .dataframe thead th {\n",
              "        text-align: right;\n",
              "    }\n",
              "</style>\n",
              "<table border=\"1\" class=\"dataframe\">\n",
              "  <thead>\n",
              "    <tr style=\"text-align: right;\">\n",
              "      <th></th>\n",
              "      <th>video</th>\n",
              "      <th>start_time</th>\n",
              "      <th>end_time</th>\n",
              "      <th>sentiment</th>\n",
              "      <th>happy</th>\n",
              "      <th>sad</th>\n",
              "      <th>anger</th>\n",
              "      <th>surprise</th>\n",
              "      <th>disgust</th>\n",
              "      <th>fear</th>\n",
              "      <th>text</th>\n",
              "      <th>ASR</th>\n",
              "    </tr>\n",
              "  </thead>\n",
              "  <tbody>\n",
              "    <tr>\n",
              "      <th>0</th>\n",
              "      <td>-6rXp3zJ3kc</td>\n",
              "      <td>14.468</td>\n",
              "      <td>22.8820</td>\n",
              "      <td>0.000000</td>\n",
              "      <td>0.000000</td>\n",
              "      <td>0.333333</td>\n",
              "      <td>0.333333</td>\n",
              "      <td>0.0</td>\n",
              "      <td>0.0</td>\n",
              "      <td>0.0</td>\n",
              "      <td>And it's a retirement future that can ultimate...</td>\n",
              "      <td>and it's a retirement future that ultimately ...</td>\n",
              "    </tr>\n",
              "    <tr>\n",
              "      <th>1</th>\n",
              "      <td>-6rXp3zJ3kc</td>\n",
              "      <td>45.428</td>\n",
              "      <td>58.1300</td>\n",
              "      <td>-1.000000</td>\n",
              "      <td>0.000000</td>\n",
              "      <td>0.333333</td>\n",
              "      <td>0.000000</td>\n",
              "      <td>0.0</td>\n",
              "      <td>0.0</td>\n",
              "      <td>0.0</td>\n",
              "      <td>Many people are not until they get to be a old...</td>\n",
              "      <td>aware of many people are not until i get to b...</td>\n",
              "    </tr>\n",
              "    <tr>\n",
              "      <th>2</th>\n",
              "      <td>-6rXp3zJ3kc</td>\n",
              "      <td>58.130</td>\n",
              "      <td>71.9600</td>\n",
              "      <td>0.333333</td>\n",
              "      <td>0.000000</td>\n",
              "      <td>0.333333</td>\n",
              "      <td>0.000000</td>\n",
              "      <td>0.0</td>\n",
              "      <td>0.0</td>\n",
              "      <td>0.0</td>\n",
              "      <td>So the answer to the question, can I contribut...</td>\n",
              "      <td>so the answer to the question can i contribut...</td>\n",
              "    </tr>\n",
              "    <tr>\n",
              "      <th>3</th>\n",
              "      <td>-9y-fZ3swSY</td>\n",
              "      <td>0.000</td>\n",
              "      <td>6.3680</td>\n",
              "      <td>1.000000</td>\n",
              "      <td>1.333333</td>\n",
              "      <td>0.000000</td>\n",
              "      <td>0.000000</td>\n",
              "      <td>0.0</td>\n",
              "      <td>0.0</td>\n",
              "      <td>0.0</td>\n",
              "      <td>is, you can say, hey I really like baby skin, ...</td>\n",
              "      <td>especially if i'd say hey can what i really l...</td>\n",
              "    </tr>\n",
              "    <tr>\n",
              "      <th>4</th>\n",
              "      <td>-9y-fZ3swSY</td>\n",
              "      <td>6.368</td>\n",
              "      <td>11.7855</td>\n",
              "      <td>1.333333</td>\n",
              "      <td>1.000000</td>\n",
              "      <td>0.000000</td>\n",
              "      <td>0.000000</td>\n",
              "      <td>0.0</td>\n",
              "      <td>0.0</td>\n",
              "      <td>0.0</td>\n",
              "      <td>It’s so nice, by giving a good example and not...</td>\n",
              "      <td>it's so nice by giving a good example and not...</td>\n",
              "    </tr>\n",
              "  </tbody>\n",
              "</table>\n",
              "</div>\n",
              "      <button class=\"colab-df-convert\" onclick=\"convertToInteractive('df-839a8990-1aaa-482a-83cf-ee7cc255aeca')\"\n",
              "              title=\"Convert this dataframe to an interactive table.\"\n",
              "              style=\"display:none;\">\n",
              "        \n",
              "  <svg xmlns=\"http://www.w3.org/2000/svg\" height=\"24px\"viewBox=\"0 0 24 24\"\n",
              "       width=\"24px\">\n",
              "    <path d=\"M0 0h24v24H0V0z\" fill=\"none\"/>\n",
              "    <path d=\"M18.56 5.44l.94 2.06.94-2.06 2.06-.94-2.06-.94-.94-2.06-.94 2.06-2.06.94zm-11 1L8.5 8.5l.94-2.06 2.06-.94-2.06-.94L8.5 2.5l-.94 2.06-2.06.94zm10 10l.94 2.06.94-2.06 2.06-.94-2.06-.94-.94-2.06-.94 2.06-2.06.94z\"/><path d=\"M17.41 7.96l-1.37-1.37c-.4-.4-.92-.59-1.43-.59-.52 0-1.04.2-1.43.59L10.3 9.45l-7.72 7.72c-.78.78-.78 2.05 0 2.83L4 21.41c.39.39.9.59 1.41.59.51 0 1.02-.2 1.41-.59l7.78-7.78 2.81-2.81c.8-.78.8-2.07 0-2.86zM5.41 20L4 18.59l7.72-7.72 1.47 1.35L5.41 20z\"/>\n",
              "  </svg>\n",
              "      </button>\n",
              "      \n",
              "  <style>\n",
              "    .colab-df-container {\n",
              "      display:flex;\n",
              "      flex-wrap:wrap;\n",
              "      gap: 12px;\n",
              "    }\n",
              "\n",
              "    .colab-df-convert {\n",
              "      background-color: #E8F0FE;\n",
              "      border: none;\n",
              "      border-radius: 50%;\n",
              "      cursor: pointer;\n",
              "      display: none;\n",
              "      fill: #1967D2;\n",
              "      height: 32px;\n",
              "      padding: 0 0 0 0;\n",
              "      width: 32px;\n",
              "    }\n",
              "\n",
              "    .colab-df-convert:hover {\n",
              "      background-color: #E2EBFA;\n",
              "      box-shadow: 0px 1px 2px rgba(60, 64, 67, 0.3), 0px 1px 3px 1px rgba(60, 64, 67, 0.15);\n",
              "      fill: #174EA6;\n",
              "    }\n",
              "\n",
              "    [theme=dark] .colab-df-convert {\n",
              "      background-color: #3B4455;\n",
              "      fill: #D2E3FC;\n",
              "    }\n",
              "\n",
              "    [theme=dark] .colab-df-convert:hover {\n",
              "      background-color: #434B5C;\n",
              "      box-shadow: 0px 1px 3px 1px rgba(0, 0, 0, 0.15);\n",
              "      filter: drop-shadow(0px 1px 2px rgba(0, 0, 0, 0.3));\n",
              "      fill: #FFFFFF;\n",
              "    }\n",
              "  </style>\n",
              "\n",
              "      <script>\n",
              "        const buttonEl =\n",
              "          document.querySelector('#df-839a8990-1aaa-482a-83cf-ee7cc255aeca button.colab-df-convert');\n",
              "        buttonEl.style.display =\n",
              "          google.colab.kernel.accessAllowed ? 'block' : 'none';\n",
              "\n",
              "        async function convertToInteractive(key) {\n",
              "          const element = document.querySelector('#df-839a8990-1aaa-482a-83cf-ee7cc255aeca');\n",
              "          const dataTable =\n",
              "            await google.colab.kernel.invokeFunction('convertToInteractive',\n",
              "                                                     [key], {});\n",
              "          if (!dataTable) return;\n",
              "\n",
              "          const docLinkHtml = 'Like what you see? Visit the ' +\n",
              "            '<a target=\"_blank\" href=https://colab.research.google.com/notebooks/data_table.ipynb>data table notebook</a>'\n",
              "            + ' to learn more about interactive tables.';\n",
              "          element.innerHTML = '';\n",
              "          dataTable['output_type'] = 'display_data';\n",
              "          await google.colab.output.renderOutput(dataTable, element);\n",
              "          const docLink = document.createElement('div');\n",
              "          docLink.innerHTML = docLinkHtml;\n",
              "          element.appendChild(docLink);\n",
              "        }\n",
              "      </script>\n",
              "    </div>\n",
              "  </div>\n",
              "  "
            ]
          },
          "metadata": {},
          "execution_count": 8
        }
      ]
    },
    {
      "cell_type": "markdown",
      "source": [
        "> Все 3 набора обучающих данных, данных проверки и тестовых данных включают следующие столбцы:\n",
        "> - video: название видео/аудио файла\n",
        "> - start_time, end_time: время начала и окончания сегмента аудиофайла\n",
        "> - sentiment: уровень сентимента сегмента аудиофайла\n",
        "> - happy, sad, anger, surprise, disgust, fear: \n",
        "> - text: содержимое сегмента аудиофайла\n",
        "> - ASR: содержимое сегмента аудиофайла, обнаруженное с помощью asr"
      ],
      "metadata": {
        "id": "UOdBh0hR7b3h"
      }
    },
    {
      "cell_type": "markdown",
      "source": [
        "**Размер наборов данных**"
      ],
      "metadata": {
        "id": "y8uVV7Os_UYh"
      }
    },
    {
      "cell_type": "code",
      "source": [
        "print(\"Train data size:\", train_labels.shape)\n",
        "print(\"Val data size:\", val_labels.shape)\n",
        "print(\"Test data size:\", test_labels.shape)"
      ],
      "metadata": {
        "colab": {
          "base_uri": "https://localhost:8080/"
        },
        "id": "7iSyFjo31R-Q",
        "outputId": "1159801a-432b-4eeb-dfc3-cef9a2cb349c"
      },
      "execution_count": 9,
      "outputs": [
        {
          "output_type": "stream",
          "name": "stdout",
          "text": [
            "Train data size: (16274, 12)\n",
            "Val data size: (1861, 12)\n",
            "Test data size: (4653, 12)\n"
          ]
        }
      ]
    },
    {
      "cell_type": "markdown",
      "source": [
        "> Наборы данных разделены в соотношении 16274|1861|4653 ~ 71.4%|8.2%|20.4%"
      ],
      "metadata": {
        "id": "XE9r7zMVAjJz"
      }
    },
    {
      "cell_type": "markdown",
      "source": [
        "**Количество уникальных значений столбцов**"
      ],
      "metadata": {
        "id": "SDFZHo9kBz44"
      }
    },
    {
      "cell_type": "code",
      "source": [
        "train_labels.nunique(axis=0)"
      ],
      "metadata": {
        "colab": {
          "base_uri": "https://localhost:8080/"
        },
        "id": "M7yi2JQW1zzA",
        "outputId": "31b0693a-a2dd-47be-9ae3-37a900696b0c"
      },
      "execution_count": 10,
      "outputs": [
        {
          "output_type": "execute_result",
          "data": {
            "text/plain": [
              "video          2244\n",
              "start_time    13762\n",
              "end_time      14490\n",
              "sentiment        27\n",
              "happy            14\n",
              "sad              15\n",
              "anger            12\n",
              "surprise         12\n",
              "disgust          11\n",
              "fear              7\n",
              "text          16160\n",
              "ASR           16117\n",
              "dtype: int64"
            ]
          },
          "metadata": {},
          "execution_count": 10
        }
      ]
    },
    {
      "cell_type": "code",
      "source": [
        "val_labels.nunique(axis=0)"
      ],
      "metadata": {
        "colab": {
          "base_uri": "https://localhost:8080/"
        },
        "id": "H3ebPGY0Dka_",
        "outputId": "19c56644-9820-43f3-bf32-8714aa8f8ee1"
      },
      "execution_count": 11,
      "outputs": [
        {
          "output_type": "execute_result",
          "data": {
            "text/plain": [
              "video          298\n",
              "start_time    1703\n",
              "end_time      1814\n",
              "sentiment       25\n",
              "happy           14\n",
              "sad             10\n",
              "anger            8\n",
              "surprise         9\n",
              "disgust          9\n",
              "fear             6\n",
              "text          1859\n",
              "ASR           1853\n",
              "dtype: int64"
            ]
          },
          "metadata": {},
          "execution_count": 11
        }
      ]
    },
    {
      "cell_type": "code",
      "source": [
        "test_labels.nunique(axis=0)"
      ],
      "metadata": {
        "colab": {
          "base_uri": "https://localhost:8080/"
        },
        "id": "jPKshEaVDniB",
        "outputId": "d1133b4c-2144-46f2-ff1d-1c4874397761"
      },
      "execution_count": 12,
      "outputs": [
        {
          "output_type": "execute_result",
          "data": {
            "text/plain": [
              "video          675\n",
              "start_time    4246\n",
              "end_time      4499\n",
              "sentiment       23\n",
              "happy           12\n",
              "sad             10\n",
              "anger           10\n",
              "surprise         6\n",
              "disgust         11\n",
              "fear             5\n",
              "text          4640\n",
              "ASR           4633\n",
              "dtype: int64"
            ]
          },
          "metadata": {},
          "execution_count": 12
        }
      ]
    },
    {
      "cell_type": "markdown",
      "source": [
        "**Добавляем столбцы длины аудио и длины текста**"
      ],
      "metadata": {
        "id": "0klOQWIeCLK5"
      }
    },
    {
      "cell_type": "code",
      "source": [
        "train_labels[\"duration\"] = train_labels[\"end_time\"]-train_labels[\"start_time\"]\n",
        "train_labels[\"text_length\"] = train_labels[\"ASR\"].apply(lambda x: len(x.split()))"
      ],
      "metadata": {
        "id": "fHwe7WS9bX2O"
      },
      "execution_count": 13,
      "outputs": []
    },
    {
      "cell_type": "code",
      "source": [
        "val_labels[\"duration\"] = val_labels[\"end_time\"]-val_labels[\"start_time\"]\n",
        "val_labels[\"text_length\"] = val_labels[\"ASR\"].apply(lambda x: len(x.split()))"
      ],
      "metadata": {
        "id": "EW365UICD95U"
      },
      "execution_count": 14,
      "outputs": []
    },
    {
      "cell_type": "code",
      "source": [
        "test_labels[\"duration\"] = test_labels[\"end_time\"]-test_labels[\"start_time\"]\n",
        "test_labels[\"text_length\"] = test_labels[\"ASR\"].apply(lambda x: len(x.split()))"
      ],
      "metadata": {
        "id": "OF2xAiiHD-SI"
      },
      "execution_count": 15,
      "outputs": []
    },
    {
      "cell_type": "markdown",
      "source": [
        "**Основная статистика набора данных**\n",
        "\n"
      ],
      "metadata": {
        "id": "cBcISNs_CpC5"
      }
    },
    {
      "cell_type": "code",
      "source": [
        "train_labels.drop(['start_time', 'end_time'], axis=1).describe() "
      ],
      "metadata": {
        "colab": {
          "base_uri": "https://localhost:8080/",
          "height": 300
        },
        "id": "cvvnUE0H9HGM",
        "outputId": "26bebefd-6baf-4bf3-b7b8-5a5465438004"
      },
      "execution_count": 16,
      "outputs": [
        {
          "output_type": "execute_result",
          "data": {
            "text/plain": [
              "          sentiment         happy           sad         anger      surprise  \\\n",
              "count  16274.000000  16274.000000  16274.000000  16274.000000  16274.000000   \n",
              "mean       0.145406      0.486768      0.161259      0.158166      0.048943   \n",
              "std        1.125372      0.640150      0.331518      0.367820      0.172161   \n",
              "min       -3.000000      0.000000      0.000000      0.000000      0.000000   \n",
              "25%       -0.333333      0.000000      0.000000      0.000000      0.000000   \n",
              "50%        0.000000      0.333333      0.000000      0.000000      0.000000   \n",
              "75%        1.000000      0.666667      0.333333      0.000000      0.000000   \n",
              "max        3.000000      3.000000      3.000000      3.000000      3.000000   \n",
              "\n",
              "            disgust          fear      duration   text_length  \n",
              "count  16274.000000  16274.000000  16274.000000  16274.000000  \n",
              "mean       0.124667      0.040494      7.164530     19.845275  \n",
              "std        0.327609      0.151935      5.060833     13.820758  \n",
              "min        0.000000      0.000000      0.189500      0.000000  \n",
              "25%        0.000000      0.000000      3.906031     11.000000  \n",
              "50%        0.000000      0.000000      6.021500     17.000000  \n",
              "75%        0.000000      0.000000      9.080374     25.000000  \n",
              "max        3.000000      1.666667    108.928571    311.000000  "
            ],
            "text/html": [
              "\n",
              "  <div id=\"df-f3e7ce00-a4ff-4268-989f-b9da435cbac9\">\n",
              "    <div class=\"colab-df-container\">\n",
              "      <div>\n",
              "<style scoped>\n",
              "    .dataframe tbody tr th:only-of-type {\n",
              "        vertical-align: middle;\n",
              "    }\n",
              "\n",
              "    .dataframe tbody tr th {\n",
              "        vertical-align: top;\n",
              "    }\n",
              "\n",
              "    .dataframe thead th {\n",
              "        text-align: right;\n",
              "    }\n",
              "</style>\n",
              "<table border=\"1\" class=\"dataframe\">\n",
              "  <thead>\n",
              "    <tr style=\"text-align: right;\">\n",
              "      <th></th>\n",
              "      <th>sentiment</th>\n",
              "      <th>happy</th>\n",
              "      <th>sad</th>\n",
              "      <th>anger</th>\n",
              "      <th>surprise</th>\n",
              "      <th>disgust</th>\n",
              "      <th>fear</th>\n",
              "      <th>duration</th>\n",
              "      <th>text_length</th>\n",
              "    </tr>\n",
              "  </thead>\n",
              "  <tbody>\n",
              "    <tr>\n",
              "      <th>count</th>\n",
              "      <td>16274.000000</td>\n",
              "      <td>16274.000000</td>\n",
              "      <td>16274.000000</td>\n",
              "      <td>16274.000000</td>\n",
              "      <td>16274.000000</td>\n",
              "      <td>16274.000000</td>\n",
              "      <td>16274.000000</td>\n",
              "      <td>16274.000000</td>\n",
              "      <td>16274.000000</td>\n",
              "    </tr>\n",
              "    <tr>\n",
              "      <th>mean</th>\n",
              "      <td>0.145406</td>\n",
              "      <td>0.486768</td>\n",
              "      <td>0.161259</td>\n",
              "      <td>0.158166</td>\n",
              "      <td>0.048943</td>\n",
              "      <td>0.124667</td>\n",
              "      <td>0.040494</td>\n",
              "      <td>7.164530</td>\n",
              "      <td>19.845275</td>\n",
              "    </tr>\n",
              "    <tr>\n",
              "      <th>std</th>\n",
              "      <td>1.125372</td>\n",
              "      <td>0.640150</td>\n",
              "      <td>0.331518</td>\n",
              "      <td>0.367820</td>\n",
              "      <td>0.172161</td>\n",
              "      <td>0.327609</td>\n",
              "      <td>0.151935</td>\n",
              "      <td>5.060833</td>\n",
              "      <td>13.820758</td>\n",
              "    </tr>\n",
              "    <tr>\n",
              "      <th>min</th>\n",
              "      <td>-3.000000</td>\n",
              "      <td>0.000000</td>\n",
              "      <td>0.000000</td>\n",
              "      <td>0.000000</td>\n",
              "      <td>0.000000</td>\n",
              "      <td>0.000000</td>\n",
              "      <td>0.000000</td>\n",
              "      <td>0.189500</td>\n",
              "      <td>0.000000</td>\n",
              "    </tr>\n",
              "    <tr>\n",
              "      <th>25%</th>\n",
              "      <td>-0.333333</td>\n",
              "      <td>0.000000</td>\n",
              "      <td>0.000000</td>\n",
              "      <td>0.000000</td>\n",
              "      <td>0.000000</td>\n",
              "      <td>0.000000</td>\n",
              "      <td>0.000000</td>\n",
              "      <td>3.906031</td>\n",
              "      <td>11.000000</td>\n",
              "    </tr>\n",
              "    <tr>\n",
              "      <th>50%</th>\n",
              "      <td>0.000000</td>\n",
              "      <td>0.333333</td>\n",
              "      <td>0.000000</td>\n",
              "      <td>0.000000</td>\n",
              "      <td>0.000000</td>\n",
              "      <td>0.000000</td>\n",
              "      <td>0.000000</td>\n",
              "      <td>6.021500</td>\n",
              "      <td>17.000000</td>\n",
              "    </tr>\n",
              "    <tr>\n",
              "      <th>75%</th>\n",
              "      <td>1.000000</td>\n",
              "      <td>0.666667</td>\n",
              "      <td>0.333333</td>\n",
              "      <td>0.000000</td>\n",
              "      <td>0.000000</td>\n",
              "      <td>0.000000</td>\n",
              "      <td>0.000000</td>\n",
              "      <td>9.080374</td>\n",
              "      <td>25.000000</td>\n",
              "    </tr>\n",
              "    <tr>\n",
              "      <th>max</th>\n",
              "      <td>3.000000</td>\n",
              "      <td>3.000000</td>\n",
              "      <td>3.000000</td>\n",
              "      <td>3.000000</td>\n",
              "      <td>3.000000</td>\n",
              "      <td>3.000000</td>\n",
              "      <td>1.666667</td>\n",
              "      <td>108.928571</td>\n",
              "      <td>311.000000</td>\n",
              "    </tr>\n",
              "  </tbody>\n",
              "</table>\n",
              "</div>\n",
              "      <button class=\"colab-df-convert\" onclick=\"convertToInteractive('df-f3e7ce00-a4ff-4268-989f-b9da435cbac9')\"\n",
              "              title=\"Convert this dataframe to an interactive table.\"\n",
              "              style=\"display:none;\">\n",
              "        \n",
              "  <svg xmlns=\"http://www.w3.org/2000/svg\" height=\"24px\"viewBox=\"0 0 24 24\"\n",
              "       width=\"24px\">\n",
              "    <path d=\"M0 0h24v24H0V0z\" fill=\"none\"/>\n",
              "    <path d=\"M18.56 5.44l.94 2.06.94-2.06 2.06-.94-2.06-.94-.94-2.06-.94 2.06-2.06.94zm-11 1L8.5 8.5l.94-2.06 2.06-.94-2.06-.94L8.5 2.5l-.94 2.06-2.06.94zm10 10l.94 2.06.94-2.06 2.06-.94-2.06-.94-.94-2.06-.94 2.06-2.06.94z\"/><path d=\"M17.41 7.96l-1.37-1.37c-.4-.4-.92-.59-1.43-.59-.52 0-1.04.2-1.43.59L10.3 9.45l-7.72 7.72c-.78.78-.78 2.05 0 2.83L4 21.41c.39.39.9.59 1.41.59.51 0 1.02-.2 1.41-.59l7.78-7.78 2.81-2.81c.8-.78.8-2.07 0-2.86zM5.41 20L4 18.59l7.72-7.72 1.47 1.35L5.41 20z\"/>\n",
              "  </svg>\n",
              "      </button>\n",
              "      \n",
              "  <style>\n",
              "    .colab-df-container {\n",
              "      display:flex;\n",
              "      flex-wrap:wrap;\n",
              "      gap: 12px;\n",
              "    }\n",
              "\n",
              "    .colab-df-convert {\n",
              "      background-color: #E8F0FE;\n",
              "      border: none;\n",
              "      border-radius: 50%;\n",
              "      cursor: pointer;\n",
              "      display: none;\n",
              "      fill: #1967D2;\n",
              "      height: 32px;\n",
              "      padding: 0 0 0 0;\n",
              "      width: 32px;\n",
              "    }\n",
              "\n",
              "    .colab-df-convert:hover {\n",
              "      background-color: #E2EBFA;\n",
              "      box-shadow: 0px 1px 2px rgba(60, 64, 67, 0.3), 0px 1px 3px 1px rgba(60, 64, 67, 0.15);\n",
              "      fill: #174EA6;\n",
              "    }\n",
              "\n",
              "    [theme=dark] .colab-df-convert {\n",
              "      background-color: #3B4455;\n",
              "      fill: #D2E3FC;\n",
              "    }\n",
              "\n",
              "    [theme=dark] .colab-df-convert:hover {\n",
              "      background-color: #434B5C;\n",
              "      box-shadow: 0px 1px 3px 1px rgba(0, 0, 0, 0.15);\n",
              "      filter: drop-shadow(0px 1px 2px rgba(0, 0, 0, 0.3));\n",
              "      fill: #FFFFFF;\n",
              "    }\n",
              "  </style>\n",
              "\n",
              "      <script>\n",
              "        const buttonEl =\n",
              "          document.querySelector('#df-f3e7ce00-a4ff-4268-989f-b9da435cbac9 button.colab-df-convert');\n",
              "        buttonEl.style.display =\n",
              "          google.colab.kernel.accessAllowed ? 'block' : 'none';\n",
              "\n",
              "        async function convertToInteractive(key) {\n",
              "          const element = document.querySelector('#df-f3e7ce00-a4ff-4268-989f-b9da435cbac9');\n",
              "          const dataTable =\n",
              "            await google.colab.kernel.invokeFunction('convertToInteractive',\n",
              "                                                     [key], {});\n",
              "          if (!dataTable) return;\n",
              "\n",
              "          const docLinkHtml = 'Like what you see? Visit the ' +\n",
              "            '<a target=\"_blank\" href=https://colab.research.google.com/notebooks/data_table.ipynb>data table notebook</a>'\n",
              "            + ' to learn more about interactive tables.';\n",
              "          element.innerHTML = '';\n",
              "          dataTable['output_type'] = 'display_data';\n",
              "          await google.colab.output.renderOutput(dataTable, element);\n",
              "          const docLink = document.createElement('div');\n",
              "          docLink.innerHTML = docLinkHtml;\n",
              "          element.appendChild(docLink);\n",
              "        }\n",
              "      </script>\n",
              "    </div>\n",
              "  </div>\n",
              "  "
            ]
          },
          "metadata": {},
          "execution_count": 16
        }
      ]
    },
    {
      "cell_type": "code",
      "source": [
        "val_labels.drop(['start_time', 'end_time'], axis=1).describe() "
      ],
      "metadata": {
        "colab": {
          "base_uri": "https://localhost:8080/",
          "height": 300
        },
        "id": "-OFs7H6LEHj8",
        "outputId": "e0e8791e-99b7-4f7a-9a35-bc6ff91b5ecc"
      },
      "execution_count": 17,
      "outputs": [
        {
          "output_type": "execute_result",
          "data": {
            "text/plain": [
              "         sentiment        happy          sad        anger     surprise  \\\n",
              "count  1861.000000  1861.000000  1861.000000  1861.000000  1861.000000   \n",
              "mean      0.191922     0.440265     0.167562     0.122336     0.049704   \n",
              "std       1.038515     0.579338     0.327045     0.304323     0.164479   \n",
              "min      -3.000000     0.000000     0.000000     0.000000     0.000000   \n",
              "25%      -0.333333     0.000000     0.000000     0.000000     0.000000   \n",
              "50%       0.000000     0.333333     0.000000     0.000000     0.000000   \n",
              "75%       0.666667     0.666667     0.333333     0.000000     0.000000   \n",
              "max       3.000000     3.000000     3.000000     2.333333     1.666667   \n",
              "\n",
              "           disgust         fear     duration  text_length  \n",
              "count  1861.000000  1861.000000  1861.000000  1861.000000  \n",
              "mean      0.090095     0.043794     7.580136    20.671682  \n",
              "std       0.263585     0.152660     4.951050    13.905139  \n",
              "min       0.000000     0.000000     0.349000     1.000000  \n",
              "25%       0.000000     0.000000     4.469841    12.000000  \n",
              "50%       0.000000     0.000000     6.624943    18.000000  \n",
              "75%       0.000000     0.000000     9.599500    26.000000  \n",
              "max       2.666667     1.000000    91.684000   279.000000  "
            ],
            "text/html": [
              "\n",
              "  <div id=\"df-867a89a9-1c91-40fd-ae70-78ae9d45bb36\">\n",
              "    <div class=\"colab-df-container\">\n",
              "      <div>\n",
              "<style scoped>\n",
              "    .dataframe tbody tr th:only-of-type {\n",
              "        vertical-align: middle;\n",
              "    }\n",
              "\n",
              "    .dataframe tbody tr th {\n",
              "        vertical-align: top;\n",
              "    }\n",
              "\n",
              "    .dataframe thead th {\n",
              "        text-align: right;\n",
              "    }\n",
              "</style>\n",
              "<table border=\"1\" class=\"dataframe\">\n",
              "  <thead>\n",
              "    <tr style=\"text-align: right;\">\n",
              "      <th></th>\n",
              "      <th>sentiment</th>\n",
              "      <th>happy</th>\n",
              "      <th>sad</th>\n",
              "      <th>anger</th>\n",
              "      <th>surprise</th>\n",
              "      <th>disgust</th>\n",
              "      <th>fear</th>\n",
              "      <th>duration</th>\n",
              "      <th>text_length</th>\n",
              "    </tr>\n",
              "  </thead>\n",
              "  <tbody>\n",
              "    <tr>\n",
              "      <th>count</th>\n",
              "      <td>1861.000000</td>\n",
              "      <td>1861.000000</td>\n",
              "      <td>1861.000000</td>\n",
              "      <td>1861.000000</td>\n",
              "      <td>1861.000000</td>\n",
              "      <td>1861.000000</td>\n",
              "      <td>1861.000000</td>\n",
              "      <td>1861.000000</td>\n",
              "      <td>1861.000000</td>\n",
              "    </tr>\n",
              "    <tr>\n",
              "      <th>mean</th>\n",
              "      <td>0.191922</td>\n",
              "      <td>0.440265</td>\n",
              "      <td>0.167562</td>\n",
              "      <td>0.122336</td>\n",
              "      <td>0.049704</td>\n",
              "      <td>0.090095</td>\n",
              "      <td>0.043794</td>\n",
              "      <td>7.580136</td>\n",
              "      <td>20.671682</td>\n",
              "    </tr>\n",
              "    <tr>\n",
              "      <th>std</th>\n",
              "      <td>1.038515</td>\n",
              "      <td>0.579338</td>\n",
              "      <td>0.327045</td>\n",
              "      <td>0.304323</td>\n",
              "      <td>0.164479</td>\n",
              "      <td>0.263585</td>\n",
              "      <td>0.152660</td>\n",
              "      <td>4.951050</td>\n",
              "      <td>13.905139</td>\n",
              "    </tr>\n",
              "    <tr>\n",
              "      <th>min</th>\n",
              "      <td>-3.000000</td>\n",
              "      <td>0.000000</td>\n",
              "      <td>0.000000</td>\n",
              "      <td>0.000000</td>\n",
              "      <td>0.000000</td>\n",
              "      <td>0.000000</td>\n",
              "      <td>0.000000</td>\n",
              "      <td>0.349000</td>\n",
              "      <td>1.000000</td>\n",
              "    </tr>\n",
              "    <tr>\n",
              "      <th>25%</th>\n",
              "      <td>-0.333333</td>\n",
              "      <td>0.000000</td>\n",
              "      <td>0.000000</td>\n",
              "      <td>0.000000</td>\n",
              "      <td>0.000000</td>\n",
              "      <td>0.000000</td>\n",
              "      <td>0.000000</td>\n",
              "      <td>4.469841</td>\n",
              "      <td>12.000000</td>\n",
              "    </tr>\n",
              "    <tr>\n",
              "      <th>50%</th>\n",
              "      <td>0.000000</td>\n",
              "      <td>0.333333</td>\n",
              "      <td>0.000000</td>\n",
              "      <td>0.000000</td>\n",
              "      <td>0.000000</td>\n",
              "      <td>0.000000</td>\n",
              "      <td>0.000000</td>\n",
              "      <td>6.624943</td>\n",
              "      <td>18.000000</td>\n",
              "    </tr>\n",
              "    <tr>\n",
              "      <th>75%</th>\n",
              "      <td>0.666667</td>\n",
              "      <td>0.666667</td>\n",
              "      <td>0.333333</td>\n",
              "      <td>0.000000</td>\n",
              "      <td>0.000000</td>\n",
              "      <td>0.000000</td>\n",
              "      <td>0.000000</td>\n",
              "      <td>9.599500</td>\n",
              "      <td>26.000000</td>\n",
              "    </tr>\n",
              "    <tr>\n",
              "      <th>max</th>\n",
              "      <td>3.000000</td>\n",
              "      <td>3.000000</td>\n",
              "      <td>3.000000</td>\n",
              "      <td>2.333333</td>\n",
              "      <td>1.666667</td>\n",
              "      <td>2.666667</td>\n",
              "      <td>1.000000</td>\n",
              "      <td>91.684000</td>\n",
              "      <td>279.000000</td>\n",
              "    </tr>\n",
              "  </tbody>\n",
              "</table>\n",
              "</div>\n",
              "      <button class=\"colab-df-convert\" onclick=\"convertToInteractive('df-867a89a9-1c91-40fd-ae70-78ae9d45bb36')\"\n",
              "              title=\"Convert this dataframe to an interactive table.\"\n",
              "              style=\"display:none;\">\n",
              "        \n",
              "  <svg xmlns=\"http://www.w3.org/2000/svg\" height=\"24px\"viewBox=\"0 0 24 24\"\n",
              "       width=\"24px\">\n",
              "    <path d=\"M0 0h24v24H0V0z\" fill=\"none\"/>\n",
              "    <path d=\"M18.56 5.44l.94 2.06.94-2.06 2.06-.94-2.06-.94-.94-2.06-.94 2.06-2.06.94zm-11 1L8.5 8.5l.94-2.06 2.06-.94-2.06-.94L8.5 2.5l-.94 2.06-2.06.94zm10 10l.94 2.06.94-2.06 2.06-.94-2.06-.94-.94-2.06-.94 2.06-2.06.94z\"/><path d=\"M17.41 7.96l-1.37-1.37c-.4-.4-.92-.59-1.43-.59-.52 0-1.04.2-1.43.59L10.3 9.45l-7.72 7.72c-.78.78-.78 2.05 0 2.83L4 21.41c.39.39.9.59 1.41.59.51 0 1.02-.2 1.41-.59l7.78-7.78 2.81-2.81c.8-.78.8-2.07 0-2.86zM5.41 20L4 18.59l7.72-7.72 1.47 1.35L5.41 20z\"/>\n",
              "  </svg>\n",
              "      </button>\n",
              "      \n",
              "  <style>\n",
              "    .colab-df-container {\n",
              "      display:flex;\n",
              "      flex-wrap:wrap;\n",
              "      gap: 12px;\n",
              "    }\n",
              "\n",
              "    .colab-df-convert {\n",
              "      background-color: #E8F0FE;\n",
              "      border: none;\n",
              "      border-radius: 50%;\n",
              "      cursor: pointer;\n",
              "      display: none;\n",
              "      fill: #1967D2;\n",
              "      height: 32px;\n",
              "      padding: 0 0 0 0;\n",
              "      width: 32px;\n",
              "    }\n",
              "\n",
              "    .colab-df-convert:hover {\n",
              "      background-color: #E2EBFA;\n",
              "      box-shadow: 0px 1px 2px rgba(60, 64, 67, 0.3), 0px 1px 3px 1px rgba(60, 64, 67, 0.15);\n",
              "      fill: #174EA6;\n",
              "    }\n",
              "\n",
              "    [theme=dark] .colab-df-convert {\n",
              "      background-color: #3B4455;\n",
              "      fill: #D2E3FC;\n",
              "    }\n",
              "\n",
              "    [theme=dark] .colab-df-convert:hover {\n",
              "      background-color: #434B5C;\n",
              "      box-shadow: 0px 1px 3px 1px rgba(0, 0, 0, 0.15);\n",
              "      filter: drop-shadow(0px 1px 2px rgba(0, 0, 0, 0.3));\n",
              "      fill: #FFFFFF;\n",
              "    }\n",
              "  </style>\n",
              "\n",
              "      <script>\n",
              "        const buttonEl =\n",
              "          document.querySelector('#df-867a89a9-1c91-40fd-ae70-78ae9d45bb36 button.colab-df-convert');\n",
              "        buttonEl.style.display =\n",
              "          google.colab.kernel.accessAllowed ? 'block' : 'none';\n",
              "\n",
              "        async function convertToInteractive(key) {\n",
              "          const element = document.querySelector('#df-867a89a9-1c91-40fd-ae70-78ae9d45bb36');\n",
              "          const dataTable =\n",
              "            await google.colab.kernel.invokeFunction('convertToInteractive',\n",
              "                                                     [key], {});\n",
              "          if (!dataTable) return;\n",
              "\n",
              "          const docLinkHtml = 'Like what you see? Visit the ' +\n",
              "            '<a target=\"_blank\" href=https://colab.research.google.com/notebooks/data_table.ipynb>data table notebook</a>'\n",
              "            + ' to learn more about interactive tables.';\n",
              "          element.innerHTML = '';\n",
              "          dataTable['output_type'] = 'display_data';\n",
              "          await google.colab.output.renderOutput(dataTable, element);\n",
              "          const docLink = document.createElement('div');\n",
              "          docLink.innerHTML = docLinkHtml;\n",
              "          element.appendChild(docLink);\n",
              "        }\n",
              "      </script>\n",
              "    </div>\n",
              "  </div>\n",
              "  "
            ]
          },
          "metadata": {},
          "execution_count": 17
        }
      ]
    },
    {
      "cell_type": "code",
      "source": [
        "test_labels.drop(['start_time', 'end_time'], axis=1).describe() "
      ],
      "metadata": {
        "colab": {
          "base_uri": "https://localhost:8080/",
          "height": 300
        },
        "id": "gHseaTPnEJkm",
        "outputId": "b42a060f-6d09-4061-fb91-0387d63416af"
      },
      "execution_count": 18,
      "outputs": [
        {
          "output_type": "execute_result",
          "data": {
            "text/plain": [
              "         sentiment        happy          sad        anger     surprise  \\\n",
              "count  4653.000000  4653.000000  4653.000000  4653.000000  4653.000000   \n",
              "mean      0.142883     0.470234     0.144674     0.163479     0.044058   \n",
              "std       1.109890     0.607638     0.302660     0.360687     0.155756   \n",
              "min      -3.000000     0.000000     0.000000     0.000000     0.000000   \n",
              "25%      -0.333333     0.000000     0.000000     0.000000     0.000000   \n",
              "50%       0.000000     0.333333     0.000000     0.000000     0.000000   \n",
              "75%       1.000000     0.666667     0.000000     0.000000     0.000000   \n",
              "max       3.000000     3.000000     2.333333     3.000000     2.333333   \n",
              "\n",
              "           disgust         fear     duration  text_length  \n",
              "count  4653.000000  4653.000000  4653.000000  4653.000000  \n",
              "mean      0.117379     0.042696     7.388835    20.132818  \n",
              "std       0.317113     0.156517     5.222004    14.117931  \n",
              "min       0.000000     0.000000     0.176000     0.000000  \n",
              "25%       0.000000     0.000000     4.086000    11.000000  \n",
              "50%       0.000000     0.000000     6.251000    17.000000  \n",
              "75%       0.000000     0.000000     9.179138    25.000000  \n",
              "max       3.000000     1.333333   104.393500   305.000000  "
            ],
            "text/html": [
              "\n",
              "  <div id=\"df-7d2b3db4-52b0-40d6-867c-c02e3468b9ff\">\n",
              "    <div class=\"colab-df-container\">\n",
              "      <div>\n",
              "<style scoped>\n",
              "    .dataframe tbody tr th:only-of-type {\n",
              "        vertical-align: middle;\n",
              "    }\n",
              "\n",
              "    .dataframe tbody tr th {\n",
              "        vertical-align: top;\n",
              "    }\n",
              "\n",
              "    .dataframe thead th {\n",
              "        text-align: right;\n",
              "    }\n",
              "</style>\n",
              "<table border=\"1\" class=\"dataframe\">\n",
              "  <thead>\n",
              "    <tr style=\"text-align: right;\">\n",
              "      <th></th>\n",
              "      <th>sentiment</th>\n",
              "      <th>happy</th>\n",
              "      <th>sad</th>\n",
              "      <th>anger</th>\n",
              "      <th>surprise</th>\n",
              "      <th>disgust</th>\n",
              "      <th>fear</th>\n",
              "      <th>duration</th>\n",
              "      <th>text_length</th>\n",
              "    </tr>\n",
              "  </thead>\n",
              "  <tbody>\n",
              "    <tr>\n",
              "      <th>count</th>\n",
              "      <td>4653.000000</td>\n",
              "      <td>4653.000000</td>\n",
              "      <td>4653.000000</td>\n",
              "      <td>4653.000000</td>\n",
              "      <td>4653.000000</td>\n",
              "      <td>4653.000000</td>\n",
              "      <td>4653.000000</td>\n",
              "      <td>4653.000000</td>\n",
              "      <td>4653.000000</td>\n",
              "    </tr>\n",
              "    <tr>\n",
              "      <th>mean</th>\n",
              "      <td>0.142883</td>\n",
              "      <td>0.470234</td>\n",
              "      <td>0.144674</td>\n",
              "      <td>0.163479</td>\n",
              "      <td>0.044058</td>\n",
              "      <td>0.117379</td>\n",
              "      <td>0.042696</td>\n",
              "      <td>7.388835</td>\n",
              "      <td>20.132818</td>\n",
              "    </tr>\n",
              "    <tr>\n",
              "      <th>std</th>\n",
              "      <td>1.109890</td>\n",
              "      <td>0.607638</td>\n",
              "      <td>0.302660</td>\n",
              "      <td>0.360687</td>\n",
              "      <td>0.155756</td>\n",
              "      <td>0.317113</td>\n",
              "      <td>0.156517</td>\n",
              "      <td>5.222004</td>\n",
              "      <td>14.117931</td>\n",
              "    </tr>\n",
              "    <tr>\n",
              "      <th>min</th>\n",
              "      <td>-3.000000</td>\n",
              "      <td>0.000000</td>\n",
              "      <td>0.000000</td>\n",
              "      <td>0.000000</td>\n",
              "      <td>0.000000</td>\n",
              "      <td>0.000000</td>\n",
              "      <td>0.000000</td>\n",
              "      <td>0.176000</td>\n",
              "      <td>0.000000</td>\n",
              "    </tr>\n",
              "    <tr>\n",
              "      <th>25%</th>\n",
              "      <td>-0.333333</td>\n",
              "      <td>0.000000</td>\n",
              "      <td>0.000000</td>\n",
              "      <td>0.000000</td>\n",
              "      <td>0.000000</td>\n",
              "      <td>0.000000</td>\n",
              "      <td>0.000000</td>\n",
              "      <td>4.086000</td>\n",
              "      <td>11.000000</td>\n",
              "    </tr>\n",
              "    <tr>\n",
              "      <th>50%</th>\n",
              "      <td>0.000000</td>\n",
              "      <td>0.333333</td>\n",
              "      <td>0.000000</td>\n",
              "      <td>0.000000</td>\n",
              "      <td>0.000000</td>\n",
              "      <td>0.000000</td>\n",
              "      <td>0.000000</td>\n",
              "      <td>6.251000</td>\n",
              "      <td>17.000000</td>\n",
              "    </tr>\n",
              "    <tr>\n",
              "      <th>75%</th>\n",
              "      <td>1.000000</td>\n",
              "      <td>0.666667</td>\n",
              "      <td>0.000000</td>\n",
              "      <td>0.000000</td>\n",
              "      <td>0.000000</td>\n",
              "      <td>0.000000</td>\n",
              "      <td>0.000000</td>\n",
              "      <td>9.179138</td>\n",
              "      <td>25.000000</td>\n",
              "    </tr>\n",
              "    <tr>\n",
              "      <th>max</th>\n",
              "      <td>3.000000</td>\n",
              "      <td>3.000000</td>\n",
              "      <td>2.333333</td>\n",
              "      <td>3.000000</td>\n",
              "      <td>2.333333</td>\n",
              "      <td>3.000000</td>\n",
              "      <td>1.333333</td>\n",
              "      <td>104.393500</td>\n",
              "      <td>305.000000</td>\n",
              "    </tr>\n",
              "  </tbody>\n",
              "</table>\n",
              "</div>\n",
              "      <button class=\"colab-df-convert\" onclick=\"convertToInteractive('df-7d2b3db4-52b0-40d6-867c-c02e3468b9ff')\"\n",
              "              title=\"Convert this dataframe to an interactive table.\"\n",
              "              style=\"display:none;\">\n",
              "        \n",
              "  <svg xmlns=\"http://www.w3.org/2000/svg\" height=\"24px\"viewBox=\"0 0 24 24\"\n",
              "       width=\"24px\">\n",
              "    <path d=\"M0 0h24v24H0V0z\" fill=\"none\"/>\n",
              "    <path d=\"M18.56 5.44l.94 2.06.94-2.06 2.06-.94-2.06-.94-.94-2.06-.94 2.06-2.06.94zm-11 1L8.5 8.5l.94-2.06 2.06-.94-2.06-.94L8.5 2.5l-.94 2.06-2.06.94zm10 10l.94 2.06.94-2.06 2.06-.94-2.06-.94-.94-2.06-.94 2.06-2.06.94z\"/><path d=\"M17.41 7.96l-1.37-1.37c-.4-.4-.92-.59-1.43-.59-.52 0-1.04.2-1.43.59L10.3 9.45l-7.72 7.72c-.78.78-.78 2.05 0 2.83L4 21.41c.39.39.9.59 1.41.59.51 0 1.02-.2 1.41-.59l7.78-7.78 2.81-2.81c.8-.78.8-2.07 0-2.86zM5.41 20L4 18.59l7.72-7.72 1.47 1.35L5.41 20z\"/>\n",
              "  </svg>\n",
              "      </button>\n",
              "      \n",
              "  <style>\n",
              "    .colab-df-container {\n",
              "      display:flex;\n",
              "      flex-wrap:wrap;\n",
              "      gap: 12px;\n",
              "    }\n",
              "\n",
              "    .colab-df-convert {\n",
              "      background-color: #E8F0FE;\n",
              "      border: none;\n",
              "      border-radius: 50%;\n",
              "      cursor: pointer;\n",
              "      display: none;\n",
              "      fill: #1967D2;\n",
              "      height: 32px;\n",
              "      padding: 0 0 0 0;\n",
              "      width: 32px;\n",
              "    }\n",
              "\n",
              "    .colab-df-convert:hover {\n",
              "      background-color: #E2EBFA;\n",
              "      box-shadow: 0px 1px 2px rgba(60, 64, 67, 0.3), 0px 1px 3px 1px rgba(60, 64, 67, 0.15);\n",
              "      fill: #174EA6;\n",
              "    }\n",
              "\n",
              "    [theme=dark] .colab-df-convert {\n",
              "      background-color: #3B4455;\n",
              "      fill: #D2E3FC;\n",
              "    }\n",
              "\n",
              "    [theme=dark] .colab-df-convert:hover {\n",
              "      background-color: #434B5C;\n",
              "      box-shadow: 0px 1px 3px 1px rgba(0, 0, 0, 0.15);\n",
              "      filter: drop-shadow(0px 1px 2px rgba(0, 0, 0, 0.3));\n",
              "      fill: #FFFFFF;\n",
              "    }\n",
              "  </style>\n",
              "\n",
              "      <script>\n",
              "        const buttonEl =\n",
              "          document.querySelector('#df-7d2b3db4-52b0-40d6-867c-c02e3468b9ff button.colab-df-convert');\n",
              "        buttonEl.style.display =\n",
              "          google.colab.kernel.accessAllowed ? 'block' : 'none';\n",
              "\n",
              "        async function convertToInteractive(key) {\n",
              "          const element = document.querySelector('#df-7d2b3db4-52b0-40d6-867c-c02e3468b9ff');\n",
              "          const dataTable =\n",
              "            await google.colab.kernel.invokeFunction('convertToInteractive',\n",
              "                                                     [key], {});\n",
              "          if (!dataTable) return;\n",
              "\n",
              "          const docLinkHtml = 'Like what you see? Visit the ' +\n",
              "            '<a target=\"_blank\" href=https://colab.research.google.com/notebooks/data_table.ipynb>data table notebook</a>'\n",
              "            + ' to learn more about interactive tables.';\n",
              "          element.innerHTML = '';\n",
              "          dataTable['output_type'] = 'display_data';\n",
              "          await google.colab.output.renderOutput(dataTable, element);\n",
              "          const docLink = document.createElement('div');\n",
              "          docLink.innerHTML = docLinkHtml;\n",
              "          element.appendChild(docLink);\n",
              "        }\n",
              "      </script>\n",
              "    </div>\n",
              "  </div>\n",
              "  "
            ]
          },
          "metadata": {},
          "execution_count": 18
        }
      ]
    },
    {
      "cell_type": "markdown",
      "source": [
        "**Распределение длительности сегмента аудиофайла**"
      ],
      "metadata": {
        "id": "P2EK96WTC0oK"
      }
    },
    {
      "cell_type": "code",
      "source": [
        "train_labels[\"duration\"].plot(kind='hist', bins=40, range=(0, 40), label=\"train\")\n",
        "test_labels[\"duration\"].plot(kind='hist', bins=40, range=(0, 40), label=\"test\")\n",
        "val_labels[\"duration\"].plot(kind='hist', bins=40, range=(0, 40), label=\"val\")\n",
        "fig = plt.gcf()\n",
        "fig.set_size_inches(8, 6)\n",
        "plt.xlabel(\"длительность сегмента аудиофайла (сек.)\")\n",
        "plt.ylabel(\"частота\")\n",
        "plt.legend()\n",
        "plt.show()"
      ],
      "metadata": {
        "colab": {
          "base_uri": "https://localhost:8080/",
          "height": 542
        },
        "id": "24EI_lIuHnef",
        "outputId": "2ad9675d-02f8-47d5-bd81-046d17c87386"
      },
      "execution_count": 19,
      "outputs": [
        {
          "output_type": "display_data",
          "data": {
            "text/plain": [
              "<Figure size 800x600 with 1 Axes>"
            ],
            "image/png": "[encoded data removed]"
          },
          "metadata": {}
        }
      ]
    },
    {
      "cell_type": "markdown",
      "source": [
        "**Распределение длительности текста**"
      ],
      "metadata": {
        "id": "HfG11z7mEdsI"
      }
    },
    {
      "cell_type": "code",
      "source": [
        "train_labels[\"text_length\"].plot(kind='hist', bins=100, range=(0, 100), label=\"train\")\n",
        "test_labels[\"text_length\"].plot(kind='hist', bins=100, range=(0, 100), label=\"test\")\n",
        "val_labels[\"text_length\"].plot(kind='hist', bins=100, range=(0, 100), label=\"val\")\n",
        "fig = plt.gcf()\n",
        "fig.set_size_inches(8, 6)\n",
        "plt.xlabel(\"длительность текста (слов)\")\n",
        "plt.ylabel(\"частота\")\n",
        "plt.legend()\n",
        "plt.show()"
      ],
      "metadata": {
        "colab": {
          "base_uri": "https://localhost:8080/",
          "height": 542
        },
        "id": "EbPbTN2RbS7a",
        "outputId": "f170d01f-5292-4b7f-951d-68db7d613cfe"
      },
      "execution_count": 20,
      "outputs": [
        {
          "output_type": "display_data",
          "data": {
            "text/plain": [
              "<Figure size 800x600 with 1 Axes>"
            ],
            "image/png": "[encoded data removed]"
          },
          "metadata": {}
        }
      ]
    },
    {
      "cell_type": "markdown",
      "source": [
        "**Распределение сентимента**"
      ],
      "metadata": {
        "id": "81Su-XhGHB3y"
      }
    },
    {
      "cell_type": "code",
      "source": [
        "train_labels[\"sentiment\"].plot(kind='hist', bins=30, label=\"train\")\n",
        "# test_labels[\"sentiment\"].plot(kind='hist', bins=10, label=\"test\")\n",
        "# val_labels[\"sentiment\"].plot(kind='hist', bins=10, label=\"val\")\n",
        "fig = plt.gcf()\n",
        "fig.set_size_inches(6, 4)\n",
        "plt.xlabel(\"сентимент\")\n",
        "plt.ylabel(\"частота\")\n",
        "plt.legend()\n",
        "plt.show()"
      ],
      "metadata": {
        "colab": {
          "base_uri": "https://localhost:8080/",
          "height": 388
        },
        "id": "sYwT-N6B9mXb",
        "outputId": "faf15b20-d718-405e-966a-c53d67f31703"
      },
      "execution_count": 21,
      "outputs": [
        {
          "output_type": "display_data",
          "data": {
            "text/plain": [
              "<Figure size 600x400 with 1 Axes>"
            ],
            "image/png": "[encoded data removed]"
          },
          "metadata": {}
        }
      ]
    },
    {
      "cell_type": "markdown",
      "source": [
        "**Распределение значений эмоций**"
      ],
      "metadata": {
        "id": "v7nBOinMIPaI"
      }
    },
    {
      "cell_type": "code",
      "source": [
        "fig, axs = plt.subplots(nrows=2, ncols=3, figsize=(8, 6), \n",
        "                        sharey=True, sharex=True, \n",
        "                        gridspec_kw={'wspace':0.2, 'hspace':0.2},\n",
        "                        num='Histogram of emotions')\n",
        "emotions = ['happy', 'sad', 'anger', 'surprise', 'disgust', 'fear']\n",
        "for i, ax in enumerate(axs.flat):\n",
        "    train_labels[emotions[i]].plot(kind='hist', ax=ax, label=\"train\", title=emotions[i])\n",
        "    test_labels[emotions[i]].plot(kind='hist', ax=ax, label=\"test\", title=emotions[i])\n",
        "    val_labels[emotions[i]].plot(kind='hist', ax=ax, label=\"val\", title=emotions[i])\n",
        "    ax.title.set_size(12)\n",
        "    ax.set_yscale('log')\n",
        "fig.suptitle('Distribution of emotions in trainset', fontsize=16)\n",
        "plt.legend()\n",
        "\n",
        "plt.show()"
      ],
      "metadata": {
        "colab": {
          "base_uri": "https://localhost:8080/",
          "height": 582
        },
        "id": "UZWig4PNC5dT",
        "outputId": "67059479-2138-48ad-e0a1-d8240cb26a25"
      },
      "execution_count": 22,
      "outputs": [
        {
          "output_type": "display_data",
          "data": {
            "text/plain": [
              "<Figure size 800x600 with 6 Axes>"
            ],
            "image/png": "[encoded data removed]"
          },
          "metadata": {}
        }
      ]
    },
    {
      "cell_type": "markdown",
      "source": [
        "**Корреляция между столбцами данных**"
      ],
      "metadata": {
        "id": "GYKZmRNNJ1no"
      }
    },
    {
      "cell_type": "code",
      "source": [
        "corr = train_labels.drop([\"start_time\",\"end_time\"], axis=1).corr()\n",
        "sns.heatmap(corr, xticklabels=corr.columns, yticklabels=corr.columns, annot=True, cmap=sns.diverging_palette(220, 20, as_cmap=True ))\n",
        "plt.title(\"Correlation between Columns in trainset\")\n",
        "plt.show()"
      ],
      "metadata": {
        "colab": {
          "base_uri": "https://localhost:8080/",
          "height": 572
        },
        "id": "olEiC6h_J2Bp",
        "outputId": "1aa0da58-957c-4eef-808a-eb91131bfec6"
      },
      "execution_count": 23,
      "outputs": [
        {
          "output_type": "stream",
          "name": "stderr",
          "text": [
            "<ipython-input-23-2d43bb4aeff3>:1: FutureWarning: The default value of numeric_only in DataFrame.corr is deprecated. In a future version, it will default to False. Select only valid columns or specify the value of numeric_only to silence this warning.\n",
            "  corr = train_labels.drop([\"start_time\",\"end_time\"], axis=1).corr()\n"
          ]
        },
        {
          "output_type": "display_data",
          "data": {
            "text/plain": [
              "<Figure size 640x480 with 2 Axes>"
            ],
            "image/png": "[encoded data removed]"
          },
          "metadata": {}
        }
      ]
    },
    {
      "cell_type": "code",
      "source": [
        "corr = val_labels.drop([\"start_time\",\"end_time\"], axis=1).corr()\n",
        "sns.heatmap(corr, xticklabels=corr.columns, yticklabels=corr.columns, annot=True, cmap=sns.diverging_palette(220, 20, as_cmap=True ))\n",
        "plt.title(\"Correlation between Columns in valset\")\n",
        "plt.show()"
      ],
      "metadata": {
        "colab": {
          "base_uri": "https://localhost:8080/",
          "height": 572
        },
        "id": "cUrtJ9U3KT9S",
        "outputId": "13d6dc03-c6ce-48b9-bb2b-3e66aac564aa"
      },
      "execution_count": 24,
      "outputs": [
        {
          "output_type": "stream",
          "name": "stderr",
          "text": [
            "<ipython-input-24-7e505fead3cb>:1: FutureWarning: The default value of numeric_only in DataFrame.corr is deprecated. In a future version, it will default to False. Select only valid columns or specify the value of numeric_only to silence this warning.\n",
            "  corr = val_labels.drop([\"start_time\",\"end_time\"], axis=1).corr()\n"
          ]
        },
        {
          "output_type": "display_data",
          "data": {
            "text/plain": [
              "<Figure size 640x480 with 2 Axes>"
            ],
            "image/png": "[encoded data removed]"
          },
          "metadata": {}
        }
      ]
    },
    {
      "cell_type": "code",
      "source": [
        "corr = test_labels.drop([\"start_time\",\"end_time\"], axis=1).corr()\n",
        "sns.heatmap(corr, xticklabels=corr.columns, yticklabels=corr.columns, annot=True, cmap=sns.diverging_palette(220, 20, as_cmap=True ))\n",
        "plt.title(\"Correlation between Columns in testset\")\n",
        "plt.show()"
      ],
      "metadata": {
        "colab": {
          "base_uri": "https://localhost:8080/",
          "height": 572
        },
        "id": "KzOG4bmaKXd3",
        "outputId": "cd19108e-636c-4be2-c5be-7ad256355b42"
      },
      "execution_count": 25,
      "outputs": [
        {
          "output_type": "stream",
          "name": "stderr",
          "text": [
            "<ipython-input-25-566fef49dad6>:1: FutureWarning: The default value of numeric_only in DataFrame.corr is deprecated. In a future version, it will default to False. Select only valid columns or specify the value of numeric_only to silence this warning.\n",
            "  corr = test_labels.drop([\"start_time\",\"end_time\"], axis=1).corr()\n"
          ]
        },
        {
          "output_type": "display_data",
          "data": {
            "text/plain": [
              "<Figure size 640x480 with 2 Axes>"
            ],
            "image/png": "[encoded data removed]"
          },
          "metadata": {}
        }
      ]
    },
    {
      "cell_type": "markdown",
      "source": [
        "# 🅱️ Baseline"
      ],
      "metadata": {
        "id": "kuc1ho9YQ3BV"
      }
    },
    {
      "cell_type": "markdown",
      "source": [
        "> Построим классификатор сентимента (2 класса)"
      ],
      "metadata": {
        "id": "1b1YQtrCpR5L"
      }
    },
    {
      "cell_type": "markdown",
      "source": [
        "## ⚙️ Подготовка"
      ],
      "metadata": {
        "id": "zfEBA1xqqxPB"
      }
    },
    {
      "cell_type": "code",
      "source": [
        "from gensim.models import Word2Vec\n",
        "from sklearn.metrics import classification_report\n",
        "import numpy as np\n",
        "from sklearn.model_selection import train_test_split\n",
        "import torch\n",
        "import torch.nn as nn\n",
        "import torch.nn.functional as F\n",
        "import torch.optim as optim\n",
        "import random\n",
        "import os\n",
        "import librosa\n",
        "from torch.utils.data import Dataset, DataLoader\n",
        "from tqdm import tqdm\n",
        "import pickle\n",
        "from sklearn.metrics import f1_score\n",
        "from sklearn.metrics import accuracy_score"
      ],
      "metadata": {
        "id": "8PQ_BxsXN0WK"
      },
      "execution_count": 26,
      "outputs": []
    },
    {
      "cell_type": "markdown",
      "source": [
        "Создаем новые метки для сентимента"
      ],
      "metadata": {
        "id": "Lt3gI2yOp06G"
      }
    },
    {
      "cell_type": "code",
      "source": [
        "def new_sentiment(x):\n",
        "  if x < 0: \n",
        "    return 1 # негативный\n",
        "  else:\n",
        "    return 0 # без негативного"
      ],
      "metadata": {
        "id": "c8GglhevpQ_r"
      },
      "execution_count": 27,
      "outputs": []
    },
    {
      "cell_type": "code",
      "source": [
        "train_labels['sentiment2'] = train_labels['sentiment'].apply(new_sentiment)\n",
        "val_labels['sentiment2'] = val_labels['sentiment'].apply(new_sentiment)\n",
        "test_labels['sentiment2'] = test_labels['sentiment'].apply(new_sentiment)"
      ],
      "metadata": {
        "id": "8mVgd6KYpNyi"
      },
      "execution_count": 28,
      "outputs": []
    },
    {
      "cell_type": "code",
      "source": [
        "device = \"cuda\" if torch.cuda.is_available() else \"cpu\"\n",
        "device"
      ],
      "metadata": {
        "colab": {
          "base_uri": "https://localhost:8080/",
          "height": 35
        },
        "id": "LlLq8f-3rEH4",
        "outputId": "a833cc0c-b1da-4e0e-997c-850b429993d0"
      },
      "execution_count": 29,
      "outputs": [
        {
          "output_type": "execute_result",
          "data": {
            "text/plain": [
              "'cpu'"
            ],
            "application/vnd.google.colaboratory.intrinsic+json": {
              "type": "string"
            }
          },
          "metadata": {},
          "execution_count": 29
        }
      ]
    },
    {
      "cell_type": "code",
      "source": [
        "random_state = 42\n",
        "\n",
        "def set_random_state(random_state=0):\n",
        "    \"\"\"Initialize random generators.\n",
        "\n",
        "    Parameters\n",
        "    ==========\n",
        "    random_state : int = 0\n",
        "        Determines random number generation for centroid initialization.\n",
        "        Use an int to make the randomness deterministic.\n",
        "    \"\"\"\n",
        "    torch.manual_seed(random_state)\n",
        "    random.seed(random_state)\n",
        "    np.random.seed(random_state)\n",
        "\n",
        "    if torch.cuda.is_available():\n",
        "        torch.cuda.manual_seed_all(random_state)\n",
        "        torch.cuda.manual_seed(random_state)\n",
        "\n",
        "        torch.backends.cudnn.deterministic = True\n",
        "        torch.backends.cudnn.benchmark = False"
      ],
      "metadata": {
        "id": "UuelPOc2rHFY"
      },
      "execution_count": 30,
      "outputs": []
    },
    {
      "cell_type": "code",
      "source": [
        "torch.use_deterministic_algorithms(True)"
      ],
      "metadata": {
        "id": "kbkZoCHrrJoz"
      },
      "execution_count": 31,
      "outputs": []
    },
    {
      "cell_type": "code",
      "source": [
        "%env CUBLAS_WORKSPACE_CONFIG=:4096:8\n",
        "%env PYTHONHASHSEED=42"
      ],
      "metadata": {
        "colab": {
          "base_uri": "https://localhost:8080/"
        },
        "id": "IOZMC39TrL2t",
        "outputId": "1d0d047b-97c4-4879-ac69-68ee46b55fa6"
      },
      "execution_count": 32,
      "outputs": [
        {
          "output_type": "stream",
          "name": "stdout",
          "text": [
            "env: CUBLAS_WORKSPACE_CONFIG=:4096:8\n",
            "env: PYTHONHASHSEED=42\n"
          ]
        }
      ]
    },
    {
      "cell_type": "markdown",
      "source": [
        "### Архитектура сети"
      ],
      "metadata": {
        "id": "G0vKKfARsuMM"
      }
    },
    {
      "cell_type": "code",
      "source": [
        "class LSTMClassifier(nn.Module):\n",
        "    def __init__(self, input_dim, hidden_dim, output_dim):\n",
        "        super(LSTMClassifier, self).__init__()\n",
        "        self.hidden_dim = hidden_dim\n",
        "        self.lstm = nn.LSTM(input_dim, hidden_dim, batch_first=True)\n",
        "        self.fc = nn.Linear(hidden_dim, output_dim)\n",
        "\n",
        "    def forward(self, x):\n",
        "        h0 = torch.zeros(1, x.size(0), self.hidden_dim).to(x.device)\n",
        "        c0 = torch.zeros(1, x.size(0), self.hidden_dim).to(x.device)\n",
        "\n",
        "        lstm_out, _ = self.lstm(x, (h0, c0))\n",
        "        out = self.fc(lstm_out[:, -1, :])\n",
        "        return out"
      ],
      "metadata": {
        "id": "f8a4Zo9EsuMN"
      },
      "execution_count": 33,
      "outputs": []
    },
    {
      "cell_type": "markdown",
      "source": [
        "### Функции для обучения и предсказания"
      ],
      "metadata": {
        "id": "GZjIqzn-suMN"
      }
    },
    {
      "cell_type": "code",
      "source": [
        "def train(model, train_loader, optimizer, criterion, device):\n",
        "    model.train()\n",
        "    running_loss = 0.0\n",
        "    y_true = []\n",
        "    y_pred = []\n",
        "    for batch_idx, (inputs, targets) in enumerate(train_loader):\n",
        "        inputs, targets = inputs.to(device), targets.to(device)\n",
        "        optimizer.zero_grad()\n",
        "        outputs = model(inputs)\n",
        "        loss = criterion(outputs, targets.long())\n",
        "        loss.backward()\n",
        "        optimizer.step()\n",
        "\n",
        "        # calculate F1-score\n",
        "        _, predicted = torch.max(outputs.data, 1)\n",
        "        y_true += targets.cpu().numpy().tolist()\n",
        "        y_pred += predicted.cpu().numpy().tolist()\n",
        "\n",
        "        running_loss += loss.item()\n",
        "    train_loss = running_loss / len(train_loader)\n",
        "    train_acc_score = accuracy_score(y_true, y_pred)\n",
        "    train_f1_score = f1_score(y_true, y_pred, average='macro')\n",
        "    return train_loss, train_acc_score, train_f1_score"
      ],
      "metadata": {
        "id": "21TLe5YusuMN"
      },
      "execution_count": 34,
      "outputs": []
    },
    {
      "cell_type": "code",
      "source": [
        "def evaluate(model, test_loader, criterion, device, set=\"test\"):\n",
        "    model.eval()\n",
        "    running_loss = 0.0\n",
        "    y_true = []\n",
        "    y_pred = []\n",
        "    with torch.no_grad():\n",
        "        for batch_idx, (inputs, targets) in enumerate(test_loader):\n",
        "            inputs, targets = inputs.to(device), targets.to(device)\n",
        "            outputs = model(inputs)\n",
        "            loss = criterion(outputs, targets.long())\n",
        "\n",
        "            # calculate F1-score\n",
        "            _, predicted = torch.max(outputs.data, 1)\n",
        "            y_true += targets.cpu().numpy().tolist()\n",
        "            y_pred += predicted.cpu().numpy().tolist()\n",
        "\n",
        "            running_loss += loss.item()\n",
        "\n",
        "    test_loss = running_loss / len(test_loader)\n",
        "    test_acc_score = accuracy_score(y_true, y_pred)\n",
        "    test_f1_score = f1_score(y_true, y_pred, average='macro')\n",
        "    return test_loss, test_acc_score, test_f1_score"
      ],
      "metadata": {
        "id": "3J17s-8ysuMN"
      },
      "execution_count": 35,
      "outputs": []
    },
    {
      "cell_type": "markdown",
      "source": [
        "## 🔤 Извлечение признаков для текстов"
      ],
      "metadata": {
        "id": "yLaJQiyUoT05"
      }
    },
    {
      "cell_type": "markdown",
      "source": [
        "### Токенизация"
      ],
      "metadata": {
        "id": "9uc4tVqsqDuM"
      }
    },
    {
      "cell_type": "code",
      "source": [
        "train_labels[\"tokens\"] = train_labels[\"ASR\"].apply(lambda x:x.strip().split())\n",
        "val_labels[\"tokens\"] = val_labels[\"ASR\"].apply(lambda x:x.strip().split())\n",
        "test_labels[\"tokens\"] = test_labels[\"ASR\"].apply(lambda x:x.strip().split())"
      ],
      "metadata": {
        "id": "4hfvbMyCgicl"
      },
      "execution_count": 36,
      "outputs": []
    },
    {
      "cell_type": "code",
      "source": [
        "train_labels[\"tokens\"]"
      ],
      "metadata": {
        "colab": {
          "base_uri": "https://localhost:8080/"
        },
        "id": "hny5zKmOhLyi",
        "outputId": "9af42119-5d45-4505-8ee4-6b01ca0576b5"
      },
      "execution_count": 37,
      "outputs": [
        {
          "output_type": "execute_result",
          "data": {
            "text/plain": [
              "0        [key, part, of, the, people, that, we, use, th...\n",
              "1        [is, that, we, do, they, have, been, able, to,...\n",
              "2        [creations, and, key, brings, a, keep, our, br...\n",
              "3        [we, are, a, huge, a, user, of, adhesives, for...\n",
              "4        [he, brings, those, types, of, a, aspects, to,...\n",
              "                               ...                        \n",
              "16269                               [i, do, all, of, that]\n",
              "16270    [i, read, other, articles, will, other, traine...\n",
              "16271    [i, actually, speak, to, the, experts, myself,...\n",
              "16272    [now, if, this, sounds, like, something, you'r...\n",
              "16273    [epic, retailers, and, we've, seen, some, prog...\n",
              "Name: tokens, Length: 16274, dtype: object"
            ]
          },
          "metadata": {},
          "execution_count": 37
        }
      ]
    },
    {
      "cell_type": "markdown",
      "source": [
        "### Векторизация"
      ],
      "metadata": {
        "id": "-SYtrCpfqNe7"
      }
    },
    {
      "cell_type": "code",
      "source": [
        "model = Word2Vec(train_labels[\"tokens\"], vector_size=300, window=5, min_count=3, workers=4)"
      ],
      "metadata": {
        "id": "YPoO121IZCNc"
      },
      "execution_count": 38,
      "outputs": []
    },
    {
      "cell_type": "code",
      "source": [
        "def padding_sentence(sentence, seq_length, value):\n",
        "    while len(sentence) < seq_length:\n",
        "        sentence.append(np.zeros(300 ,dtype=np.float32))\n",
        "    else:\n",
        "        return sentence[:seq_length]"
      ],
      "metadata": {
        "id": "MEzFdAHFnaWJ"
      },
      "execution_count": 39,
      "outputs": []
    },
    {
      "cell_type": "code",
      "source": [
        "def get_vector(word_vectors, sentence):\n",
        "    vector = []\n",
        "    for word in sentence:\n",
        "        if word in word_vectors:\n",
        "            vector.append(word_vectors[word])\n",
        "    return vector"
      ],
      "metadata": {
        "id": "CPDyeYgvnh_l"
      },
      "execution_count": 40,
      "outputs": []
    },
    {
      "cell_type": "code",
      "source": [
        "train_vector = [get_vector(model.wv, sentence) for sentence in train_labels[\"tokens\"]]\n",
        "val_vector = [get_vector(model.wv, sentence) for sentence in val_labels[\"tokens\"]]\n",
        "test_vector = [get_vector(model.wv, sentence) for sentence in test_labels[\"tokens\"]]"
      ],
      "metadata": {
        "id": "5PUFJ_y8nqWB"
      },
      "execution_count": 41,
      "outputs": []
    },
    {
      "cell_type": "code",
      "source": [
        "X_train = np.array([padding_sentence(i, 40, 0) for i in train_vector])\n",
        "X_val = np.array([padding_sentence(i, 40, 0) for i in val_vector])\n",
        "X_test = np.array([padding_sentence(i, 40, 0) for i in test_vector])"
      ],
      "metadata": {
        "id": "hPdBkR_3n7dl"
      },
      "execution_count": 42,
      "outputs": []
    },
    {
      "cell_type": "code",
      "source": [
        "X_train.shape"
      ],
      "metadata": {
        "id": "x5lWraLlspJ0",
        "colab": {
          "base_uri": "https://localhost:8080/"
        },
        "outputId": "1db109f3-042f-4cc8-a23d-8ba04028fdb4"
      },
      "execution_count": 43,
      "outputs": [
        {
          "output_type": "execute_result",
          "data": {
            "text/plain": [
              "(16274, 40, 300)"
            ]
          },
          "metadata": {},
          "execution_count": 43
        }
      ]
    },
    {
      "cell_type": "code",
      "source": [
        "def new_sentiment(x):\n",
        "  if x > 0: \n",
        "    return 0\n",
        "  else:\n",
        "    return 1"
      ],
      "metadata": {
        "id": "U-KGSpAKbQxB"
      },
      "execution_count": 44,
      "outputs": []
    },
    {
      "cell_type": "code",
      "source": [
        "y_train = train_labels[\"sentiment2\"]\n",
        "y_val = val_labels[\"sentiment2\"]\n",
        "y_test = test_labels[\"sentiment2\"]"
      ],
      "metadata": {
        "id": "6VS3EZwCZ_60"
      },
      "execution_count": 45,
      "outputs": []
    },
    {
      "cell_type": "code",
      "source": [
        "y_train.shape"
      ],
      "metadata": {
        "id": "_XUn3-tRsxD3",
        "colab": {
          "base_uri": "https://localhost:8080/"
        },
        "outputId": "ac2839d4-ad47-4c81-aa41-20084c564868"
      },
      "execution_count": 46,
      "outputs": [
        {
          "output_type": "execute_result",
          "data": {
            "text/plain": [
              "(16274,)"
            ]
          },
          "metadata": {},
          "execution_count": 46
        }
      ]
    },
    {
      "cell_type": "markdown",
      "source": [
        "### Преобразование в тензоры"
      ],
      "metadata": {
        "id": "k-grMBvdqm7k"
      }
    },
    {
      "cell_type": "code",
      "source": [
        "inputs_train =  torch.tensor(X_train)\n",
        "targets_train = torch.IntTensor(y_train.to_numpy())\n",
        "\n",
        "inputs_val = torch.tensor(X_val)\n",
        "targets_val = torch.IntTensor(y_val.to_numpy())\n",
        "\n",
        "inputs_test =  torch.tensor(X_test)\n",
        "targets_test = torch.IntTensor(y_test.to_numpy())\n",
        "\n",
        "trainset = torch.utils.data.TensorDataset(inputs_train,targets_train)\n",
        "valset = torch.utils.data.TensorDataset(inputs_val, targets_val)\n",
        "testset = torch.utils.data.TensorDataset(inputs_test, targets_test)\n",
        "\n",
        "train_loader = torch.utils.data.DataLoader(trainset,batch_size=64, shuffle=True)\n",
        "val_loader = torch.utils.data.DataLoader(valset, batch_size=64,shuffle=False)\n",
        "test_loader = torch.utils.data.DataLoader(testset, batch_size=64,shuffle=False)"
      ],
      "metadata": {
        "id": "oWCCXlRfdYul"
      },
      "execution_count": 47,
      "outputs": []
    },
    {
      "cell_type": "markdown",
      "source": [
        "## 📢 Извлечение признаков для аудио"
      ],
      "metadata": {
        "id": "SzewS9M-HTWJ"
      }
    },
    {
      "cell_type": "markdown",
      "source": [
        "### Пути к каталогам и файлам"
      ],
      "metadata": {
        "id": "nqDtVpr7FyQ-"
      }
    },
    {
      "cell_type": "code",
      "source": [
        "audio_path = os.path.join(base_folder, \"Audio_chunk\")"
      ],
      "metadata": {
        "id": "xU81AznutN16"
      },
      "execution_count": 48,
      "outputs": []
    },
    {
      "cell_type": "code",
      "source": [
        "train_audio_path = os.path.join(audio_path, \"Train_modified\")\n",
        "val_audio_path = os.path.join(audio_path, \"Val_modified\")\n",
        "test_audio_path = os.path.join(audio_path, \"Test_modified\")"
      ],
      "metadata": {
        "id": "FRIuop0IBXD_"
      },
      "execution_count": 49,
      "outputs": []
    },
    {
      "cell_type": "code",
      "source": [
        "def get_file_name(video, start_time, end_time):\n",
        "    \n",
        "    # Generate filename from label corresponding to audio files\n",
        "\n",
        "    formatted_start_time = \"{:.4f}\".format(start_time)\n",
        "    formatted_end_time = \"{:.4f}\".format(end_time)\n",
        "    return f\"{video}_{formatted_start_time}_{formatted_end_time}.wav\""
      ],
      "metadata": {
        "id": "JA3RDNa2bEP8"
      },
      "execution_count": 50,
      "outputs": []
    },
    {
      "cell_type": "code",
      "source": [
        "train_labels['filename'] = train_labels.apply(lambda x: get_file_name(x['video'], x['start_time'], x['end_time']), axis=1)\n",
        "val_labels['filename'] = val_labels.apply(lambda x: get_file_name(x['video'], x['start_time'], x['end_time']), axis=1)\n",
        "test_labels['filename'] = test_labels.apply(lambda x: get_file_name(x['video'], x['start_time'], x['end_time']), axis=1)"
      ],
      "metadata": {
        "id": "FWrfvEioMFfu"
      },
      "execution_count": 51,
      "outputs": []
    },
    {
      "cell_type": "markdown",
      "source": [
        "### Извлечение признаков"
      ],
      "metadata": {
        "id": "P-W48iabXjZE"
      }
    },
    {
      "cell_type": "code",
      "source": [
        "def extract_features(df, audio_folder_path, features_file_path):\n",
        "    \"\"\"\n",
        "    Extracts Mel Spectrogram features from the audio files in the dataframe\n",
        "    and saves them to a numpy file.\n",
        "\n",
        "    Args:\n",
        "    - df (Pandas dataframe): A dataframe containing the audio file path and the corresponding label (0 or 1)\n",
        "    - audio_folder_path (str): The folder path to load audio files\n",
        "    - features_file_path (str): The file path to save the extracted features to.\n",
        "\n",
        "    Returns:\n",
        "    None\n",
        "    \"\"\"\n",
        "\n",
        "    # Initialize empty list to store features and labels\n",
        "    data = []\n",
        "\n",
        "    # Loop through each row in the dataframe\n",
        "    for i, row in tqdm(df.iterrows()):\n",
        "        # Load the audio file using librosa\n",
        "        y, sr = librosa.load(os.path.join(audio_folder_path, row['filename']), sr=16000, mono=True)\n",
        "        # Extract the Mel Spectrogram features using librosa\n",
        "        S = librosa.feature.melspectrogram(y=y, sr=sr, n_mels=64)\n",
        "        log_S = librosa.power_to_db(S, ref=np.max)\n",
        "        norm_S = (log_S - log_S.min()) / (log_S.max() - log_S.min())\n",
        "\n",
        "        # Create dictionary containing the feature and label\n",
        "        sample = {'feature': norm_S, 'label': row['sentiment2']}\n",
        "\n",
        "        # Append the sample to the data list\n",
        "        data.append(sample)\n",
        "\n",
        "    # Save the data list to a file\n",
        "    pickle.dump(data, open(features_file_path, 'wb'))\n"
      ],
      "metadata": {
        "id": "F6NaRCifgk-G"
      },
      "execution_count": 52,
      "outputs": []
    },
    {
      "cell_type": "code",
      "source": [
        "# extract_features(train_labels, train_audio_path, os.path.join(home_path, 'train'))"
      ],
      "metadata": {
        "id": "15YyWdPmht-F"
      },
      "execution_count": 65,
      "outputs": []
    },
    {
      "cell_type": "code",
      "source": [
        "# extract_features(val_labels, val_audio_path, os.path.join(home_path, 'val'))"
      ],
      "metadata": {
        "id": "13f2Hwa3i0Uf"
      },
      "execution_count": 66,
      "outputs": []
    },
    {
      "cell_type": "code",
      "source": [
        "# extract_features(test_labels, test_audio_path, os.path.join(home_path, 'test'))"
      ],
      "metadata": {
        "id": "YYxbrEbJi3Id",
        "colab": {
          "base_uri": "https://localhost:8080/"
        },
        "outputId": "093d0c7e-6200-410c-e78e-74fc6cdea4a0"
      },
      "execution_count": 55,
      "outputs": [
        {
          "output_type": "stream",
          "name": "stderr",
          "text": [
            "345it [02:16,  3.29it/s]<ipython-input-52-82b6fcce6936>:25: RuntimeWarning: invalid value encountered in true_divide\n",
            "  norm_S = (log_S - log_S.min()) / (log_S.max() - log_S.min())\n",
            "4653it [22:09,  3.50it/s]\n"
          ]
        }
      ]
    },
    {
      "cell_type": "code",
      "source": [
        "train_data = pickle.load(open(os.path.join(home_path, 'train'), \"rb\"))\n",
        "val_data = pickle.load(open(os.path.join(home_path, 'val'), \"rb\"))\n",
        "test_data = pickle.load(open(os.path.join(home_path, 'test'), \"rb\"))"
      ],
      "metadata": {
        "id": "mn4q3lLOcLZx"
      },
      "execution_count": 56,
      "outputs": []
    },
    {
      "cell_type": "code",
      "source": [
        "def remove_nan(data):\n",
        "    newdata = [row for row in data if not np.isnan(row[\"feature\"]).any()]\n",
        "    return newdata"
      ],
      "metadata": {
        "id": "ct6tLgs-0sZ2"
      },
      "execution_count": 57,
      "outputs": []
    },
    {
      "cell_type": "code",
      "source": [
        "train_data = pd.DataFrame(remove_nan(train_data))\n",
        "val_data = pd.DataFrame(remove_nan(val_data))\n",
        "test_data = pd.DataFrame(remove_nan(test_data))"
      ],
      "metadata": {
        "id": "UL2IiQ3u4Bos"
      },
      "execution_count": 58,
      "outputs": []
    },
    {
      "cell_type": "markdown",
      "source": [
        "### Построение датасетов"
      ],
      "metadata": {
        "id": "1LKWTGBgr6rm"
      }
    },
    {
      "cell_type": "markdown",
      "source": [
        "> выберем длительность аудио 32 с"
      ],
      "metadata": {
        "id": "nVllzlLgKLg_"
      }
    },
    {
      "cell_type": "markdown",
      "source": [
        "**Количество кадров для 32-секундного аудио:**\n",
        "sr x 32 / hop_length = 16000 x 32 / 512 = 1000"
      ],
      "metadata": {
        "id": "N74W8R-khd7A"
      }
    },
    {
      "cell_type": "code",
      "source": [
        "class AudioDataset(Dataset):\n",
        "    def __init__(self, x, y=None):\n",
        "        self.x = x\n",
        "        self.y = y\n",
        "\n",
        "    def __len__(self):\n",
        "        return len(self.x)\n",
        "\n",
        "    def __getitem__(self, idx):\n",
        "        x = self.prepare_shape(self.x[idx])\n",
        "        x = torch.from_numpy(x).float()\n",
        "        x = x.squeeze(2)\n",
        "        if self.y is not None:\n",
        "            return x,\\\n",
        "                torch.tensor(self.y[idx])\n",
        "        return x\n",
        "\n",
        "    def prepare_shape(self, feature):\n",
        "        N = 1000\n",
        "        if feature.shape[1] >= N:\n",
        "            start_idx = np.random.randint(0, feature.shape[1] - N + 1)\n",
        "            feature = feature[:, start_idx:start_idx + N]\n",
        "        else:\n",
        "            while feature.shape[1] < N:\n",
        "                feature = np.hstack((feature, feature))\n",
        "            feature = feature[:, :N]\n",
        "        feature = feature[np.newaxis, :, :]\n",
        "        return np.transpose(feature)"
      ],
      "metadata": {
        "id": "jnepHIt1OirA"
      },
      "execution_count": 59,
      "outputs": []
    },
    {
      "cell_type": "code",
      "source": [
        "train_audio_dset = AudioDataset(train_data['feature'], train_data['label'])\n",
        "val_audio_dset = AudioDataset(val_data['feature'], val_data['label'])\n",
        "test_audio_dset = AudioDataset(test_data['feature'], test_data['label'])"
      ],
      "metadata": {
        "id": "6qCLvnN_WYbX"
      },
      "execution_count": 60,
      "outputs": []
    },
    {
      "cell_type": "code",
      "source": [
        "train_audio_loader = DataLoader(train_audio_dset, batch_size=64, shuffle=True)\n",
        "val_audio_loader = DataLoader(val_audio_dset, batch_size=64, shuffle=False)\n",
        "test_audio_loader = DataLoader(test_audio_dset, batch_size=64, shuffle=False)"
      ],
      "metadata": {
        "id": "dPVlaQ_pYM-X"
      },
      "execution_count": 61,
      "outputs": []
    },
    {
      "cell_type": "markdown",
      "source": [
        "## 🎯 Эксперименты"
      ],
      "metadata": {
        "id": "Tsp4l1DUsZ_0"
      }
    },
    {
      "cell_type": "code",
      "source": [
        "def run(train_loader, val_loader, input_dim, hidden_dim, optimizer, n_epochs):\n",
        "  model = LSTMClassifier(input_dim, hidden_dim, output_dim=2).to(device)\n",
        "  optimizer = optimizer(model.parameters())\n",
        "  loss_fn = nn.CrossEntropyLoss()\n",
        "  acc = {\"train\": [], \"val\":[]}\n",
        "  loss = {\"train\":[], \"val\":[]}\n",
        "  f1 = {\"train\":[], \"val\":[]}\n",
        "  for t in tqdm(range(n_epochs)):\n",
        "      train_loss, train_acc, train_f1 = train(model, train_loader, optimizer, loss_fn, device)\n",
        "      val_loss, val_acc, val_f1 = evaluate(model, val_loader, loss_fn, device, 'val')\n",
        "      acc[\"train\"].append(train_acc)\n",
        "      f1[\"train\"].append(train_f1)\n",
        "      loss[\"train\"].append(train_loss)\n",
        "      acc[\"val\"].append(val_acc)\n",
        "      f1[\"val\"].append(val_f1)\n",
        "      loss[\"val\"].append(val_loss)\n",
        "  return acc, loss, f1"
      ],
      "metadata": {
        "id": "eiLY7morYWZP"
      },
      "execution_count": 62,
      "outputs": []
    },
    {
      "cell_type": "code",
      "source": [
        "def draw_learning_curve(acc, loss, f1):\n",
        "  plt.plot(loss['train'], label='Training loss')\n",
        "  plt.plot(loss['val'], label='Validation loss')\n",
        "  plt.legend()\n",
        "  plt.title('Training and Validation Loss')\n",
        "  plt.xlabel('Epoch')\n",
        "  plt.ylabel('Loss')\n",
        "  plt.show()\n",
        "\n",
        "  plt.plot(acc['train'], label='Training accuracy')\n",
        "  plt.plot(acc['val'], label='Validation accuracy')\n",
        "  plt.legend()\n",
        "  plt.title('Training and Validation Accuracy')\n",
        "  plt.xlabel('Epoch')\n",
        "  plt.ylabel('Accuracy')\n",
        "  plt.show()\n",
        "\n",
        "  plt.plot(f1['train'], label='Training f1')\n",
        "  plt.plot(f1['val'], label='Validation f1')\n",
        "  plt.legend()\n",
        "  plt.title('Training and Validation f1')\n",
        "  plt.xlabel('Epoch')\n",
        "  plt.ylabel('F1')\n",
        "  plt.show()"
      ],
      "metadata": {
        "id": "dptbGigcfuJN"
      },
      "execution_count": 63,
      "outputs": []
    },
    {
      "cell_type": "code",
      "source": [
        "acc, loss, f1 = run(train_loader, val_loader, 300, 300, optim.Adam, 50)\n",
        "draw_learning_curve(acc, loss, f1)"
      ],
      "metadata": {
        "id": "RfKd43XHQsLB",
        "colab": {
          "base_uri": "https://localhost:8080/",
          "height": 345
        },
        "outputId": "c8861010-f0cb-4b0d-eb73-e1100f9bdff5"
      },
      "execution_count": 64,
      "outputs": [
        {
          "output_type": "stream",
          "name": "stderr",
          "text": [
            "  0%|          | 0/50 [01:05<?, ?it/s]\n"
          ]
        },
        {
          "output_type": "error",
          "ename": "NameError",
          "evalue": "ignored",
          "traceback": [
            "\u001b[0;31m---------------------------------------------------------------------------\u001b[0m",
            "\u001b[0;31mNameError\u001b[0m                                 Traceback (most recent call last)",
            "\u001b[0;32m<ipython-input-64-8d9c2715eac1>\u001b[0m in \u001b[0;36m<cell line: 1>\u001b[0;34m()\u001b[0m\n\u001b[0;32m----> 1\u001b[0;31m \u001b[0macc\u001b[0m\u001b[0;34m,\u001b[0m \u001b[0mloss\u001b[0m \u001b[0;34m=\u001b[0m \u001b[0mrun\u001b[0m\u001b[0;34m(\u001b[0m\u001b[0mtrain_loader\u001b[0m\u001b[0;34m,\u001b[0m \u001b[0mval_loader\u001b[0m\u001b[0;34m,\u001b[0m \u001b[0;36m300\u001b[0m\u001b[0;34m,\u001b[0m \u001b[0;36m300\u001b[0m\u001b[0;34m,\u001b[0m \u001b[0moptim\u001b[0m\u001b[0;34m.\u001b[0m\u001b[0mAdam\u001b[0m\u001b[0;34m,\u001b[0m \u001b[0;36m50\u001b[0m\u001b[0;34m)\u001b[0m\u001b[0;34m\u001b[0m\u001b[0;34m\u001b[0m\u001b[0m\n\u001b[0m\u001b[1;32m      2\u001b[0m \u001b[0mdraw_learning_curve\u001b[0m\u001b[0;34m(\u001b[0m\u001b[0macc\u001b[0m\u001b[0;34m,\u001b[0m \u001b[0mloss\u001b[0m\u001b[0;34m)\u001b[0m\u001b[0;34m\u001b[0m\u001b[0;34m\u001b[0m\u001b[0m\n",
            "\u001b[0;32m<ipython-input-62-129652791fd3>\u001b[0m in \u001b[0;36mrun\u001b[0;34m(train_loader, val_loader, input_dim, hidden_dim, optimizer, n_epochs)\u001b[0m\n\u001b[1;32m      7\u001b[0m   \u001b[0mf1\u001b[0m \u001b[0;34m=\u001b[0m \u001b[0;34m{\u001b[0m\u001b[0;34m\"train\"\u001b[0m\u001b[0;34m:\u001b[0m\u001b[0;34m[\u001b[0m\u001b[0;34m]\u001b[0m\u001b[0;34m,\u001b[0m \u001b[0;34m\"val\"\u001b[0m\u001b[0;34m:\u001b[0m\u001b[0;34m[\u001b[0m\u001b[0;34m]\u001b[0m\u001b[0;34m}\u001b[0m\u001b[0;34m\u001b[0m\u001b[0;34m\u001b[0m\u001b[0m\n\u001b[1;32m      8\u001b[0m   \u001b[0;32mfor\u001b[0m \u001b[0mt\u001b[0m \u001b[0;32min\u001b[0m \u001b[0mtqdm\u001b[0m\u001b[0;34m(\u001b[0m\u001b[0mrange\u001b[0m\u001b[0;34m(\u001b[0m\u001b[0mn_epochs\u001b[0m\u001b[0;34m)\u001b[0m\u001b[0;34m)\u001b[0m\u001b[0;34m:\u001b[0m\u001b[0;34m\u001b[0m\u001b[0;34m\u001b[0m\u001b[0m\n\u001b[0;32m----> 9\u001b[0;31m       \u001b[0mtrain_loss\u001b[0m\u001b[0;34m,\u001b[0m \u001b[0mtrain_acc\u001b[0m\u001b[0;34m,\u001b[0m \u001b[0mtrain_f1\u001b[0m \u001b[0;34m=\u001b[0m \u001b[0mtrain\u001b[0m\u001b[0;34m(\u001b[0m\u001b[0mmodel\u001b[0m\u001b[0;34m,\u001b[0m \u001b[0mtrain_loader\u001b[0m\u001b[0;34m,\u001b[0m \u001b[0moptimizer\u001b[0m\u001b[0;34m,\u001b[0m \u001b[0mloss_fn\u001b[0m\u001b[0;34m,\u001b[0m \u001b[0mdevice\u001b[0m\u001b[0;34m)\u001b[0m\u001b[0;34m\u001b[0m\u001b[0;34m\u001b[0m\u001b[0m\n\u001b[0m\u001b[1;32m     10\u001b[0m       \u001b[0mval_loss\u001b[0m\u001b[0;34m,\u001b[0m \u001b[0mval_acc\u001b[0m\u001b[0;34m,\u001b[0m \u001b[0mval_f1\u001b[0m \u001b[0;34m=\u001b[0m \u001b[0mevaluate\u001b[0m\u001b[0;34m(\u001b[0m\u001b[0mmodel\u001b[0m\u001b[0;34m,\u001b[0m \u001b[0mval_loader\u001b[0m\u001b[0;34m,\u001b[0m \u001b[0mloss_fn\u001b[0m\u001b[0;34m,\u001b[0m \u001b[0mdevice\u001b[0m\u001b[0;34m,\u001b[0m \u001b[0;34m'val'\u001b[0m\u001b[0;34m)\u001b[0m\u001b[0;34m\u001b[0m\u001b[0;34m\u001b[0m\u001b[0m\n\u001b[1;32m     11\u001b[0m       \u001b[0macc\u001b[0m\u001b[0;34m[\u001b[0m\u001b[0;34m\"train\"\u001b[0m\u001b[0;34m]\u001b[0m\u001b[0;34m.\u001b[0m\u001b[0mappend\u001b[0m\u001b[0;34m(\u001b[0m\u001b[0mtrain_acc\u001b[0m\u001b[0;34m)\u001b[0m\u001b[0;34m\u001b[0m\u001b[0;34m\u001b[0m\u001b[0m\n",
            "\u001b[0;32m<ipython-input-34-57caceaac901>\u001b[0m in \u001b[0;36mtrain\u001b[0;34m(model, train_loader, optimizer, criterion, device)\u001b[0m\n\u001b[1;32m     19\u001b[0m         \u001b[0mrunning_loss\u001b[0m \u001b[0;34m+=\u001b[0m \u001b[0mloss\u001b[0m\u001b[0;34m.\u001b[0m\u001b[0mitem\u001b[0m\u001b[0;34m(\u001b[0m\u001b[0;34m)\u001b[0m\u001b[0;34m\u001b[0m\u001b[0;34m\u001b[0m\u001b[0m\n\u001b[1;32m     20\u001b[0m     \u001b[0mtrain_loss\u001b[0m \u001b[0;34m=\u001b[0m \u001b[0mrunning_loss\u001b[0m \u001b[0;34m/\u001b[0m \u001b[0mlen\u001b[0m\u001b[0;34m(\u001b[0m\u001b[0mtrain_loader\u001b[0m\u001b[0;34m)\u001b[0m\u001b[0;34m\u001b[0m\u001b[0;34m\u001b[0m\u001b[0m\n\u001b[0;32m---> 21\u001b[0;31m     \u001b[0mtrain_acc_score\u001b[0m \u001b[0;34m=\u001b[0m \u001b[0macc_score\u001b[0m\u001b[0;34m(\u001b[0m\u001b[0my_true\u001b[0m\u001b[0;34m,\u001b[0m \u001b[0my_pred\u001b[0m\u001b[0;34m)\u001b[0m\u001b[0;34m\u001b[0m\u001b[0;34m\u001b[0m\u001b[0m\n\u001b[0m\u001b[1;32m     22\u001b[0m     \u001b[0mtrain_f1_score\u001b[0m \u001b[0;34m=\u001b[0m \u001b[0mf1_score\u001b[0m\u001b[0;34m(\u001b[0m\u001b[0my_true\u001b[0m\u001b[0;34m,\u001b[0m \u001b[0my_pred\u001b[0m\u001b[0;34m,\u001b[0m \u001b[0maverage\u001b[0m\u001b[0;34m=\u001b[0m\u001b[0;34m'macro'\u001b[0m\u001b[0;34m)\u001b[0m\u001b[0;34m\u001b[0m\u001b[0;34m\u001b[0m\u001b[0m\n\u001b[1;32m     23\u001b[0m     \u001b[0;32mreturn\u001b[0m \u001b[0mtrain_loss\u001b[0m\u001b[0;34m,\u001b[0m \u001b[0mtrain_acc_score\u001b[0m\u001b[0;34m,\u001b[0m \u001b[0mtrain_f1_score\u001b[0m\u001b[0;34m\u001b[0m\u001b[0;34m\u001b[0m\u001b[0m\n",
            "\u001b[0;31mNameError\u001b[0m: name 'acc_score' is not defined"
          ]
        }
      ]
    },
    {
      "cell_type": "code",
      "source": [
        "acc, loss, f1 = run(train_audio_loader, val_audio_loader, 64, 64, optim.NAdam, 100)\n",
        "draw_learning_curve(acc, loss, f1)"
      ],
      "metadata": {
        "id": "QVmYhvdYQvjD"
      },
      "execution_count": null,
      "outputs": []
    },
    {
      "cell_type": "markdown",
      "source": [
        "## 🎁 Выводы\n",
        "- При использовании одной и той же архитектуры сети классификация сентимента на текстовых данных имеет более высокую точность (>60%), чем на аудио данных (<60%). \n",
        "- Точность на отдельных модальностях в этой работе (~60%) значительно отстаёт от [точности лучших существующих решений](https://paperswithcode.com/sota/multimodal-sentiment-analysis-on-cmu-mosei-1) (>80%)."
      ],
      "metadata": {
        "id": "1aaj9WIM88aI"
      }
    },
    {
      "cell_type": "code",
      "source": [],
      "metadata": {
        "id": "shg0iwBwXHgM"
      },
      "execution_count": null,
      "outputs": []
    }
  ]
}